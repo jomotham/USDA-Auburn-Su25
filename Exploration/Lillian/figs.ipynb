{
 "cells": [
  {
   "cell_type": "code",
   "execution_count": 38,
   "id": "9c79d847-211f-4222-8554-378db39b1c17",
   "metadata": {},
   "outputs": [],
   "source": [
    "import glob\n",
    "import pandas as pd\n",
    "import os"
   ]
  },
  {
   "cell_type": "code",
   "execution_count": 41,
   "id": "13b338b2-1dc4-4308-b9c5-f22a607b41ab",
   "metadata": {},
   "outputs": [
    {
     "name": "stdout",
     "output_type": "stream",
     "text": [
      "/home/lillian/drive/mudd-archive/s7/clinic/clean-data\n"
     ]
    }
   ],
   "source": [
    "cd ~/Downloads/s8/clinic/clean-data/"
   ]
  },
  {
   "cell_type": "code",
   "execution_count": 42,
   "id": "4a5a800b-0a82-4f76-a992-51df2b1b0533",
   "metadata": {},
   "outputs": [],
   "source": [
    "files = sorted(glob.glob('tarsalis_data_clean/*'))\n",
    "#files = sorted(glob.glob('aegypti_data_clean/*'))"
   ]
  },
  {
   "cell_type": "code",
   "execution_count": 43,
   "id": "7750d81b-e6a3-49e7-a56c-beca2f36dd81",
   "metadata": {},
   "outputs": [
    {
     "data": {
      "text/plain": [
       "['tarsalis_data_clean/cxthand1sep2021no1.csv',\n",
       " 'tarsalis_data_clean/cxthand1sep2021no7.csv',\n",
       " 'tarsalis_data_clean/cxthand30aug2021no11.csv',\n",
       " 'tarsalis_data_clean/cxthand30aug2021no12.csv',\n",
       " 'tarsalis_data_clean/cxthand30aug2021no2.csv',\n",
       " 'tarsalis_data_clean/cxthand8sep2021no1.csv',\n",
       " 'tarsalis_data_clean/cxthand8sep2021no4.csv',\n",
       " 'tarsalis_data_clean/cxthand8sep2021no8.csv',\n",
       " 'tarsalis_data_clean/cxtonhand10nov2021no10.csv',\n",
       " 'tarsalis_data_clean/cxtonhand10nov2021no11.csv',\n",
       " 'tarsalis_data_clean/cxtonhand10nov2021no5.csv',\n",
       " 'tarsalis_data_clean/cxtonhand10nov2021no7.csv',\n",
       " 'tarsalis_data_clean/cxtonhand14dec2021no1.csv',\n",
       " 'tarsalis_data_clean/cxtonhand14jan2021no1.csv',\n",
       " 'tarsalis_data_clean/cxtonhand14jan2021no3.csv',\n",
       " 'tarsalis_data_clean/cxtonhand14jan2021no8.csv',\n",
       " 'tarsalis_data_clean/cxtonhand18nov2021no4.csv',\n",
       " 'tarsalis_data_clean/cxtonhand18nov2021no8.csv',\n",
       " 'tarsalis_data_clean/cxtonhand19nov2021no2b.csv',\n",
       " 'tarsalis_data_clean/cxtonhand19nov2021no5.csv',\n",
       " 'tarsalis_data_clean/cxtonhand19nov2021no7b.csv',\n",
       " 'tarsalis_data_clean/cxtonhand21oct2021no4.csv',\n",
       " 'tarsalis_data_clean/cxtonhand21oct2021no6b.csv',\n",
       " 'tarsalis_data_clean/cxtonhand21sep2021no8.csv',\n",
       " 'tarsalis_data_clean/cxtonhand22oct2021no7.csv',\n",
       " 'tarsalis_data_clean/cxtonhand22sep2021no4.csv',\n",
       " 'tarsalis_data_clean/cxtonhand22sep2021no6.csv',\n",
       " 'tarsalis_data_clean/cxtonhand22sep2021no7.csv',\n",
       " 'tarsalis_data_clean/cxtonhand22sep2021no8.csv',\n",
       " 'tarsalis_data_clean/cxtonhand22sep2021no9.csv',\n",
       " 'tarsalis_data_clean/cxtonhand24nov2021no12.csv',\n",
       " 'tarsalis_data_clean/cxtonhand24nov2021no9.csv',\n",
       " 'tarsalis_data_clean/cxtonhand27oct2021no9.csv',\n",
       " 'tarsalis_data_clean/cxtonhand30nov2021no1.csv',\n",
       " 'tarsalis_data_clean/cxtonhand30nov2021no6b.csv',\n",
       " 'tarsalis_data_clean/cxtonhand6dec2021no2.csv',\n",
       " 'tarsalis_data_clean/cxtonhand6dec2021no3.csv',\n",
       " 'tarsalis_data_clean/cxtonhand8dec2021no12.csv',\n",
       " 'tarsalis_data_clean/cxtonhand8dec2021no1b.csv',\n",
       " 'tarsalis_data_clean/cxtonhand8dec2021no2.csv',\n",
       " 'tarsalis_data_clean/cxtonhand8dec2021no3.csv',\n",
       " 'tarsalis_data_clean/cxtonhand8dec2021no5.csv',\n",
       " 'tarsalis_data_clean/cxtonhand8dec2021no7.csv',\n",
       " 'tarsalis_data_clean/cxtonhand8dec2021no9.csv',\n",
       " 'tarsalis_data_clean/cxtonhandkc22feb2022no2.csv',\n",
       " 'tarsalis_data_clean/cxtonhandkc22feb2022no6.csv',\n",
       " 'tarsalis_data_clean/cxtonhandkcage16feb2022no5.csv',\n",
       " 'tarsalis_data_clean/cxtonhandkccage24feb2022no12b.csv',\n",
       " 'tarsalis_data_clean/cxtonhandkccage24feb2022no13.csv',\n",
       " 'tarsalis_data_clean/cxtonhandkccage24feb2022no14.csv',\n",
       " 'tarsalis_data_clean/cxtonhandkccage24feb2022no15.csv',\n",
       " 'tarsalis_data_clean/cxtonhandkccage25feb2022no1.csv',\n",
       " 'tarsalis_data_clean/cxtonhandkccage25feb2022no5.csv',\n",
       " 'tarsalis_data_clean/cxtonhandkccage25feb2022no6.csv',\n",
       " 'tarsalis_data_clean/cxtonhandkscage9mar2022no3.csv',\n",
       " 'tarsalis_data_clean/cxtonhandkscage9mar2022no5.csv',\n",
       " 'tarsalis_data_clean/cxtonhandkscage9mar2022no7.csv',\n",
       " 'tarsalis_data_clean/handcxt17aug2021no2.csv',\n",
       " 'tarsalis_data_clean/handcxt20aug2021no6.csv',\n",
       " 'tarsalis_data_clean/handcxt23aug2021no6.csv',\n",
       " 'tarsalis_data_clean/handcxt23aug2021no8.csv',\n",
       " 'tarsalis_data_clean/handcxt3aug2021.csv']"
      ]
     },
     "execution_count": 43,
     "metadata": {},
     "output_type": "execute_result"
    }
   ],
   "source": [
    "files"
   ]
  },
  {
   "cell_type": "code",
   "execution_count": 44,
   "id": "0dbae099-d499-4402-a0c1-def64b9d8f2e",
   "metadata": {},
   "outputs": [
    {
     "data": {
      "text/plain": [
       "62"
      ]
     },
     "execution_count": 44,
     "metadata": {},
     "output_type": "execute_result"
    }
   ],
   "source": [
    "len(files)"
   ]
  },
  {
   "cell_type": "code",
   "execution_count": 45,
   "id": "308f9d44-6b5a-4c51-8cc0-d78f2c0b4348",
   "metadata": {},
   "outputs": [],
   "source": [
    "dfs = [pd.read_csv(f) for f in files]\n",
    "dfs_dict = {os.path.basename(f): pd.read_csv(f) for f in files}"
   ]
  },
  {
   "cell_type": "code",
   "execution_count": 46,
   "id": "8779a078-a578-4d9a-bc2d-393d195056a4",
   "metadata": {},
   "outputs": [],
   "source": [
    "last_time = [df['time'].iloc[-1] for df in dfs]"
   ]
  },
  {
   "cell_type": "code",
   "execution_count": 47,
   "id": "d5f49b1e-57f4-4a45-b77c-0af1bb0b8dae",
   "metadata": {},
   "outputs": [
    {
     "data": {
      "text/plain": [
       "np.float64(17.449894444444443)"
      ]
     },
     "execution_count": 47,
     "metadata": {},
     "output_type": "execute_result"
    }
   ],
   "source": [
    "total_time = sum(last_time)\n",
    "total_time / 3600"
   ]
  },
  {
   "cell_type": "code",
   "execution_count": 68,
   "id": "7979e1bd-65f6-4a48-8977-99c49c212aa4",
   "metadata": {},
   "outputs": [],
   "source": [
    "!mkdir -p /tmp/tmp\n",
    "for file, df in zip(files, dfs):\n",
    "    plt.figure(figsize=(8,6))\n",
    "    plt.plot(df['time'], df['pre_rect'],  label='pre_rect')\n",
    "    plt.plot(df['time'], df['post_rect'], label='post_rect')\n",
    "    plt.legend()\n",
    "    plt.grid()\n",
    "    plt.xlabel('time [s]')\n",
    "    plt.ylabel('voltage [V]')\n",
    "    plt.title(os.path.basename(file))\n",
    "    plt.savefig(f'/tmp/tmp/{os.path.basename(file)}.png')\n",
    "    plt.close()"
   ]
  },
  {
   "cell_type": "code",
   "execution_count": 70,
   "id": "5532deb6-b5fe-4634-bd91-05a296da5345",
   "metadata": {},
   "outputs": [],
   "source": [
    "file = 'cxthand30aug2021no12.csv'\n",
    "df = dfs_dict[file]\n",
    "plt.figure(figsize=(8,6))\n",
    "plt.plot(df['time'], df['pre_rect'],  label='pre_rect')\n",
    "plt.plot(df['time'], df['post_rect'], label='post_rect')\n",
    "plt.legend()\n",
    "plt.grid()\n",
    "plt.xlabel('time [s]')\n",
    "plt.ylabel('voltage [V]')\n",
    "plt.title(os.path.basename(file))\n",
    "plt.savefig('/tmp/clipping.pdf')\n",
    "plt.show()\n",
    "plt.close()"
   ]
  },
  {
   "cell_type": "code",
   "execution_count": 18,
   "id": "a4eda29e-da00-48d1-90dc-60d08ff4eda9",
   "metadata": {},
   "outputs": [
    {
     "name": "stdout",
     "output_type": "stream",
     "text": [
      "/home/lillian/drive/projects/hmc-courses/s8/USDA-Auburn/GUI\n"
     ]
    }
   ],
   "source": [
    "cd /home/lillian/projects/hmc-courses/s8/USDA-Auburn/GUI"
   ]
  },
  {
   "cell_type": "code",
   "execution_count": 19,
   "id": "227d56a7-5d03-42f1-8bea-27ece05587e3",
   "metadata": {},
   "outputs": [
    {
     "name": "stdout",
     "output_type": "stream",
     "text": [
      "\u001b[0m\u001b[01;34mbuild\u001b[0m/         EPGData.py       \u001b[01;34mmodels\u001b[0m/           scido.spec          windaq.py\n",
      "build.ps1      FileSelector.py  ModelSelector.py  Settings.py\n",
      "\u001b[01;32mbuild.sh\u001b[0m*      Labeler.py       ProbeSplitter.py  SettingsWindow.py\n",
      "DataWindow.py  main.py          requirements.txt  test_recording.csv\n",
      "\u001b[01;34mdist\u001b[0m/          model.pkl        \u001b[01;35mSCIDO.png\u001b[0m         \u001b[01;34mvenv\u001b[0m/\n"
     ]
    }
   ],
   "source": [
    "ls"
   ]
  },
  {
   "cell_type": "code",
   "execution_count": 20,
   "id": "1885a09c-0c59-40dc-bf73-e576d86b7294",
   "metadata": {},
   "outputs": [],
   "source": [
    "import windaq"
   ]
  },
  {
   "cell_type": "code",
   "execution_count": 22,
   "id": "3e68e0e9-76bd-47df-ab83-7b9d9f1949e8",
   "metadata": {},
   "outputs": [
    {
     "data": {
      "text/plain": [
       "<windaq.windaq at 0x7fa8b4d39f90>"
      ]
     },
     "execution_count": 22,
     "metadata": {},
     "output_type": "execute_result"
    }
   ],
   "source": [
    "w = windaq.windaq('/home/lillian/CxT hand 1Sep2021 no7.WDQ')\n",
    "w"
   ]
  },
  {
   "cell_type": "code",
   "execution_count": 24,
   "id": "3e5b3075-cbd3-4691-820c-d3be43369193",
   "metadata": {},
   "outputs": [
    {
     "data": {
      "text/plain": [
       "[(b'V', b'o', b'l', b't', b'\\x00', b'\\x00'),\n",
       " (b'V', b'o', b'l', b't', b'\\x00', b'\\x00'),\n",
       " (b'V', b'o', b'l', b't', b'\\x00', b'\\x00'),\n",
       " (b'V', b'o', b'l', b't', b'\\x00', b'\\x00'),\n",
       " (b'V', b'o', b'l', b't', b'\\x00', b'\\x00'),\n",
       " (b'V', b'o', b'l', b't', b'\\x00', b'\\x00'),\n",
       " (b'V', b'o', b'l', b't', b'\\x00', b'\\x00'),\n",
       " (b'V', b'o', b'l', b't', b'\\x00', b'\\x00')]"
      ]
     },
     "execution_count": 24,
     "metadata": {},
     "output_type": "execute_result"
    }
   ],
   "source": [
    "w.engUnits"
   ]
  },
  {
   "cell_type": "code",
   "execution_count": 28,
   "id": "e623aa5f-50eb-4291-ac64-f1fb88d31d14",
   "metadata": {},
   "outputs": [
    {
     "data": {
      "text/plain": [
       "'Volt\\x00\\x00'"
      ]
     },
     "execution_count": 28,
     "metadata": {},
     "output_type": "execute_result"
    }
   ],
   "source": [
    "w.unit(0)"
   ]
  },
  {
   "cell_type": "code",
   "execution_count": 29,
   "id": "67092a3e-af64-4ad0-b310-327a2d705c9a",
   "metadata": {},
   "outputs": [
    {
     "data": {
      "text/html": [
       "<div>\n",
       "<style scoped>\n",
       "    .dataframe tbody tr th:only-of-type {\n",
       "        vertical-align: middle;\n",
       "    }\n",
       "\n",
       "    .dataframe tbody tr th {\n",
       "        vertical-align: top;\n",
       "    }\n",
       "\n",
       "    .dataframe thead th {\n",
       "        text-align: right;\n",
       "    }\n",
       "</style>\n",
       "<table border=\"1\" class=\"dataframe\">\n",
       "  <thead>\n",
       "    <tr style=\"text-align: right;\">\n",
       "      <th></th>\n",
       "      <th>Unnamed: 0</th>\n",
       "      <th>resistance</th>\n",
       "      <th>voltage</th>\n",
       "      <th>current</th>\n",
       "      <th>time</th>\n",
       "      <th>pre_rect</th>\n",
       "      <th>post_rect</th>\n",
       "      <th>labels</th>\n",
       "    </tr>\n",
       "  </thead>\n",
       "  <tbody>\n",
       "    <tr>\n",
       "      <th>0</th>\n",
       "      <td>0</td>\n",
       "      <td>6</td>\n",
       "      <td>250</td>\n",
       "      <td>DC</td>\n",
       "      <td>0.00</td>\n",
       "      <td>-8.012695</td>\n",
       "      <td>0.017090</td>\n",
       "      <td>NP</td>\n",
       "    </tr>\n",
       "    <tr>\n",
       "      <th>1</th>\n",
       "      <td>1</td>\n",
       "      <td>6</td>\n",
       "      <td>250</td>\n",
       "      <td>DC</td>\n",
       "      <td>0.01</td>\n",
       "      <td>-8.006592</td>\n",
       "      <td>0.019531</td>\n",
       "      <td>NP</td>\n",
       "    </tr>\n",
       "    <tr>\n",
       "      <th>2</th>\n",
       "      <td>2</td>\n",
       "      <td>6</td>\n",
       "      <td>250</td>\n",
       "      <td>DC</td>\n",
       "      <td>0.02</td>\n",
       "      <td>-8.023682</td>\n",
       "      <td>0.020752</td>\n",
       "      <td>NP</td>\n",
       "    </tr>\n",
       "    <tr>\n",
       "      <th>3</th>\n",
       "      <td>3</td>\n",
       "      <td>6</td>\n",
       "      <td>250</td>\n",
       "      <td>DC</td>\n",
       "      <td>0.03</td>\n",
       "      <td>-8.018799</td>\n",
       "      <td>0.020752</td>\n",
       "      <td>NP</td>\n",
       "    </tr>\n",
       "    <tr>\n",
       "      <th>4</th>\n",
       "      <td>4</td>\n",
       "      <td>6</td>\n",
       "      <td>250</td>\n",
       "      <td>DC</td>\n",
       "      <td>0.04</td>\n",
       "      <td>-8.034668</td>\n",
       "      <td>0.019531</td>\n",
       "      <td>NP</td>\n",
       "    </tr>\n",
       "    <tr>\n",
       "      <th>...</th>\n",
       "      <td>...</td>\n",
       "      <td>...</td>\n",
       "      <td>...</td>\n",
       "      <td>...</td>\n",
       "      <td>...</td>\n",
       "      <td>...</td>\n",
       "      <td>...</td>\n",
       "      <td>...</td>\n",
       "    </tr>\n",
       "    <tr>\n",
       "      <th>84757</th>\n",
       "      <td>84757</td>\n",
       "      <td>6</td>\n",
       "      <td>250</td>\n",
       "      <td>DC</td>\n",
       "      <td>847.57</td>\n",
       "      <td>0.003662</td>\n",
       "      <td>7.438965</td>\n",
       "      <td>NP</td>\n",
       "    </tr>\n",
       "    <tr>\n",
       "      <th>84758</th>\n",
       "      <td>84758</td>\n",
       "      <td>6</td>\n",
       "      <td>250</td>\n",
       "      <td>DC</td>\n",
       "      <td>847.58</td>\n",
       "      <td>0.003662</td>\n",
       "      <td>7.438965</td>\n",
       "      <td>NP</td>\n",
       "    </tr>\n",
       "    <tr>\n",
       "      <th>84759</th>\n",
       "      <td>84759</td>\n",
       "      <td>6</td>\n",
       "      <td>250</td>\n",
       "      <td>DC</td>\n",
       "      <td>847.59</td>\n",
       "      <td>0.003662</td>\n",
       "      <td>7.437744</td>\n",
       "      <td>NP</td>\n",
       "    </tr>\n",
       "    <tr>\n",
       "      <th>84760</th>\n",
       "      <td>84760</td>\n",
       "      <td>6</td>\n",
       "      <td>250</td>\n",
       "      <td>DC</td>\n",
       "      <td>847.60</td>\n",
       "      <td>0.002441</td>\n",
       "      <td>7.438965</td>\n",
       "      <td>NP</td>\n",
       "    </tr>\n",
       "    <tr>\n",
       "      <th>84761</th>\n",
       "      <td>84761</td>\n",
       "      <td>6</td>\n",
       "      <td>250</td>\n",
       "      <td>DC</td>\n",
       "      <td>847.61</td>\n",
       "      <td>0.002441</td>\n",
       "      <td>7.438965</td>\n",
       "      <td>NP</td>\n",
       "    </tr>\n",
       "  </tbody>\n",
       "</table>\n",
       "<p>84762 rows × 8 columns</p>\n",
       "</div>"
      ],
      "text/plain": [
       "       Unnamed: 0  resistance  voltage current    time  pre_rect  post_rect  \\\n",
       "0               0           6      250      DC    0.00 -8.012695   0.017090   \n",
       "1               1           6      250      DC    0.01 -8.006592   0.019531   \n",
       "2               2           6      250      DC    0.02 -8.023682   0.020752   \n",
       "3               3           6      250      DC    0.03 -8.018799   0.020752   \n",
       "4               4           6      250      DC    0.04 -8.034668   0.019531   \n",
       "...           ...         ...      ...     ...     ...       ...        ...   \n",
       "84757       84757           6      250      DC  847.57  0.003662   7.438965   \n",
       "84758       84758           6      250      DC  847.58  0.003662   7.438965   \n",
       "84759       84759           6      250      DC  847.59  0.003662   7.437744   \n",
       "84760       84760           6      250      DC  847.60  0.002441   7.438965   \n",
       "84761       84761           6      250      DC  847.61  0.002441   7.438965   \n",
       "\n",
       "      labels  \n",
       "0         NP  \n",
       "1         NP  \n",
       "2         NP  \n",
       "3         NP  \n",
       "4         NP  \n",
       "...      ...  \n",
       "84757     NP  \n",
       "84758     NP  \n",
       "84759     NP  \n",
       "84760     NP  \n",
       "84761     NP  \n",
       "\n",
       "[84762 rows x 8 columns]"
      ]
     },
     "execution_count": 29,
     "metadata": {},
     "output_type": "execute_result"
    }
   ],
   "source": [
    "dfs[0]"
   ]
  },
  {
   "cell_type": "code",
   "execution_count": 64,
   "id": "7e894822-aceb-466d-9f55-0f58f56284f4",
   "metadata": {},
   "outputs": [
    {
     "ename": "KeyboardInterrupt",
     "evalue": "",
     "output_type": "error",
     "traceback": [
      "\u001b[31m---------------------------------------------------------------------------\u001b[39m",
      "\u001b[31mKeyboardInterrupt\u001b[39m                         Traceback (most recent call last)",
      "\u001b[36mCell\u001b[39m\u001b[36m \u001b[39m\u001b[32mIn[64]\u001b[39m\u001b[32m, line 9\u001b[39m\n\u001b[32m      7\u001b[39m plt.legend()\n\u001b[32m      8\u001b[39m \u001b[38;5;66;03m#plt.savefig(f'/tmp/tmp/{os.path.basename(file)}.png')\u001b[39;00m\n\u001b[32m----> \u001b[39m\u001b[32m9\u001b[39m \u001b[43mplt\u001b[49m\u001b[43m.\u001b[49m\u001b[43mshow\u001b[49m\u001b[43m(\u001b[49m\u001b[43mblock\u001b[49m\u001b[43m=\u001b[49m\u001b[38;5;28;43;01mTrue\u001b[39;49;00m\u001b[43m)\u001b[49m\n",
      "\u001b[36mFile \u001b[39m\u001b[32m~/.local/lib/python3.13/site-packages/matplotlib/pyplot.py:614\u001b[39m, in \u001b[36mshow\u001b[39m\u001b[34m(*args, **kwargs)\u001b[39m\n\u001b[32m    570\u001b[39m \u001b[38;5;250m\u001b[39m\u001b[33;03m\"\"\"\u001b[39;00m\n\u001b[32m    571\u001b[39m \u001b[33;03mDisplay all open figures.\u001b[39;00m\n\u001b[32m    572\u001b[39m \n\u001b[32m   (...)\u001b[39m\u001b[32m    611\u001b[39m \u001b[33;03mexplicitly there.\u001b[39;00m\n\u001b[32m    612\u001b[39m \u001b[33;03m\"\"\"\u001b[39;00m\n\u001b[32m    613\u001b[39m _warn_if_gui_out_of_main_thread()\n\u001b[32m--> \u001b[39m\u001b[32m614\u001b[39m \u001b[38;5;28;01mreturn\u001b[39;00m \u001b[43m_get_backend_mod\u001b[49m\u001b[43m(\u001b[49m\u001b[43m)\u001b[49m\u001b[43m.\u001b[49m\u001b[43mshow\u001b[49m\u001b[43m(\u001b[49m\u001b[43m*\u001b[49m\u001b[43margs\u001b[49m\u001b[43m,\u001b[49m\u001b[43m \u001b[49m\u001b[43m*\u001b[49m\u001b[43m*\u001b[49m\u001b[43mkwargs\u001b[49m\u001b[43m)\u001b[49m\n",
      "\u001b[36mFile \u001b[39m\u001b[32m~/.local/lib/python3.13/site-packages/matplotlib/backend_bases.py:3547\u001b[39m, in \u001b[36m_Backend.show\u001b[39m\u001b[34m(cls, block)\u001b[39m\n\u001b[32m   3545\u001b[39m     block = \u001b[38;5;129;01mnot\u001b[39;00m ipython_pylab \u001b[38;5;129;01mand\u001b[39;00m \u001b[38;5;129;01mnot\u001b[39;00m is_interactive()\n\u001b[32m   3546\u001b[39m \u001b[38;5;28;01mif\u001b[39;00m block:\n\u001b[32m-> \u001b[39m\u001b[32m3547\u001b[39m     \u001b[38;5;28;43mcls\u001b[39;49m\u001b[43m.\u001b[49m\u001b[43mmainloop\u001b[49m\u001b[43m(\u001b[49m\u001b[43m)\u001b[49m\n",
      "\u001b[36mFile \u001b[39m\u001b[32m~/.local/lib/python3.13/site-packages/matplotlib/backends/backend_qt.py:642\u001b[39m, in \u001b[36mFigureManagerQT.start_main_loop\u001b[39m\u001b[34m(cls)\u001b[39m\n\u001b[32m    640\u001b[39m qapp = QtWidgets.QApplication.instance()\n\u001b[32m    641\u001b[39m \u001b[38;5;28;01mif\u001b[39;00m qapp:\n\u001b[32m--> \u001b[39m\u001b[32m642\u001b[39m \u001b[43m    \u001b[49m\u001b[38;5;28;43;01mwith\u001b[39;49;00m\u001b[43m \u001b[49m\u001b[43m_allow_interrupt_qt\u001b[49m\u001b[43m(\u001b[49m\u001b[43mqapp\u001b[49m\u001b[43m)\u001b[49m\u001b[43m:\u001b[49m\n\u001b[32m    643\u001b[39m \u001b[43m        \u001b[49m\u001b[43mqt_compat\u001b[49m\u001b[43m.\u001b[49m\u001b[43m_exec\u001b[49m\u001b[43m(\u001b[49m\u001b[43mqapp\u001b[49m\u001b[43m)\u001b[49m\n",
      "\u001b[36mFile \u001b[39m\u001b[32m/usr/lib/python3.13/contextlib.py:148\u001b[39m, in \u001b[36m_GeneratorContextManager.__exit__\u001b[39m\u001b[34m(self, typ, value, traceback)\u001b[39m\n\u001b[32m    146\u001b[39m \u001b[38;5;28;01mif\u001b[39;00m typ \u001b[38;5;129;01mis\u001b[39;00m \u001b[38;5;28;01mNone\u001b[39;00m:\n\u001b[32m    147\u001b[39m     \u001b[38;5;28;01mtry\u001b[39;00m:\n\u001b[32m--> \u001b[39m\u001b[32m148\u001b[39m         \u001b[38;5;28;43mnext\u001b[39;49m\u001b[43m(\u001b[49m\u001b[38;5;28;43mself\u001b[39;49m\u001b[43m.\u001b[49m\u001b[43mgen\u001b[49m\u001b[43m)\u001b[49m\n\u001b[32m    149\u001b[39m     \u001b[38;5;28;01mexcept\u001b[39;00m \u001b[38;5;167;01mStopIteration\u001b[39;00m:\n\u001b[32m    150\u001b[39m         \u001b[38;5;28;01mreturn\u001b[39;00m \u001b[38;5;28;01mFalse\u001b[39;00m\n",
      "\u001b[36mFile \u001b[39m\u001b[32m~/.local/lib/python3.13/site-packages/matplotlib/backend_bases.py:1658\u001b[39m, in \u001b[36m_allow_interrupt\u001b[39m\u001b[34m(prepare_notifier, handle_sigint)\u001b[39m\n\u001b[32m   1656\u001b[39m signal.signal(signal.SIGINT, old_sigint_handler)\n\u001b[32m   1657\u001b[39m \u001b[38;5;28;01mif\u001b[39;00m handler_args \u001b[38;5;129;01mis\u001b[39;00m \u001b[38;5;129;01mnot\u001b[39;00m \u001b[38;5;28;01mNone\u001b[39;00m:\n\u001b[32m-> \u001b[39m\u001b[32m1658\u001b[39m     \u001b[43mold_sigint_handler\u001b[49m\u001b[43m(\u001b[49m\u001b[43m*\u001b[49m\u001b[43mhandler_args\u001b[49m\u001b[43m)\u001b[49m\n",
      "\u001b[31mKeyboardInterrupt\u001b[39m: "
     ]
    }
   ],
   "source": [
    "%matplotlib qt\n",
    "for file, df in zip(files, dfs):\n",
    "    plt.figure()\n",
    "    plt.plot(df['time'], df['pre_rect'],  label='pre_rect')\n",
    "    plt.plot(df['time'], df['post_rect'] - df['post_rect'].mean() + df['pre_rect'].mean(), label='post_rect')\n",
    "    plt.title(df['current'].iloc[0])\n",
    "    plt.legend()\n",
    "    #plt.savefig(f'/tmp/tmp/{os.path.basename(file)}.png')\n",
    "    plt.show(block=True)"
   ]
  },
  {
   "cell_type": "code",
   "execution_count": 69,
   "id": "f2d8e065-911d-47bf-b889-f811837b08df",
   "metadata": {},
   "outputs": [
    {
     "data": {
      "image/png": "[encoded data removed]",
      "text/plain": [
       "<Figure size 800x600 with 1 Axes>"
      ]
     },
     "metadata": {},
     "output_type": "display_data"
    }
   ],
   "source": [
    "%matplotlib inline\n",
    "f = 'cxthand30aug2021no2.csv'\n",
    "dfi = dfs_dict[f]\n",
    "plt.figure(figsize=(8,6))\n",
    "plt.plot(dfi[\"time\"], dfi[\"pre_rect\"],  label=\"pre_rect\", marker='.')\n",
    "plt.plot(dfi[\"time\"], dfi[\"post_rect\"] - dfi[\"post_rect\"].mean() + dfi[\"pre_rect\"].mean(), label=\"post_rect (shifted)\", marker='.')\n",
    "plt.xlabel(\"time [s]\")\n",
    "plt.ylabel(\"voltage [V]\")\n",
    "plt.xlim(72.4, 74.2)\n",
    "plt.ylim(0.1, 0.35)\n",
    "plt.title(f)\n",
    "plt.legend()\n",
    "plt.grid()\n",
    "plt.savefig('/tmp/aliasing.pdf')\n",
    "plt.show()"
   ]
  },
  {
   "cell_type": "code",
   "execution_count": null,
   "id": "81619425-8997-4140-9acd-470959f00eef",
   "metadata": {},
   "outputs": [],
   "source": []
  }
 ],
 "metadata": {
  "kernelspec": {
   "display_name": "Python 3 (ipykernel)",
   "language": "python",
   "name": "python3"
  },
  "language_info": {
   "codemirror_mode": {
    "name": "ipython",
    "version": 3
   },
   "file_extension": ".py",
   "mimetype": "text/x-python",
   "name": "python",
   "nbconvert_exporter": "python",
   "pygments_lexer": "ipython3",
   "version": "3.13.3"
  }
 },
 "nbformat": 4,
 "nbformat_minor": 5
}
