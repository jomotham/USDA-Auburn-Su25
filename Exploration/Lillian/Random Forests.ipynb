{
 "cells": [
  {
   "cell_type": "code",
   "execution_count": 8,
   "id": "cc71726d-8630-4a30-a639-f46a5238f090",
   "metadata": {},
   "outputs": [],
   "source": [
    "import numpy as np\n",
    "import pandas as pd\n",
    "import matplotlib.pyplot as plt\n",
    "from scipy.fft import fft, fftfreq\n",
    "import os\n",
    "import glob\n",
    "from collections import defaultdict"
   ]
  },
  {
   "cell_type": "code",
   "execution_count": 9,
   "id": "0e823da0-47c2-42d2-a40d-53a1fa0e96f8",
   "metadata": {},
   "outputs": [],
   "source": [
    "sample_rate = 100 # samples/s\n",
    "chunk_seconds = 1\n",
    "chunk_size = chunk_seconds * sample_rate"
   ]
  },
  {
   "cell_type": "code",
   "execution_count": 10,
   "id": "d039cc1d-9ea4-48fd-9fe7-b192cf531fc8",
   "metadata": {},
   "outputs": [],
   "source": [
    "#data_dir = os.path.expanduser(\"~/Downloads/Clinic/tarsalis_data_clean/\")\n",
    "data_dir = os.path.expanduser(\"../../Data Cleaning/aegypti_data_clean\")\n",
    "os.chdir(data_dir)\n",
    "filenames = glob.glob('*.csv')"
   ]
  },
  {
   "cell_type": "code",
   "execution_count": 11,
   "id": "5c99c23f-2eeb-4a96-96b3-81e27c2a03ad",
   "metadata": {},
   "outputs": [],
   "source": [
    "dataframes = [pd.read_csv(f) for f in filenames]"
   ]
  },
  {
   "cell_type": "code",
   "execution_count": 12,
   "id": "c80ea098-688a-45fe-a1cf-8ad8374f959e",
   "metadata": {},
   "outputs": [
    {
     "name": "stderr",
     "output_type": "stream",
     "text": [
      "QSocketNotifier: Can only be used with threads started with QThread\n"
     ]
    }
   ],
   "source": [
    "%matplotlib qt"
   ]
  },
  {
   "cell_type": "code",
   "execution_count": 14,
   "id": "37aa62bd-1157-4c46-a6d5-e2ddc7435f6e",
   "metadata": {},
   "outputs": [
    {
     "data": {
      "text/html": [
       "<div>\n",
       "<style scoped>\n",
       "    .dataframe tbody tr th:only-of-type {\n",
       "        vertical-align: middle;\n",
       "    }\n",
       "\n",
       "    .dataframe tbody tr th {\n",
       "        vertical-align: top;\n",
       "    }\n",
       "\n",
       "    .dataframe thead th {\n",
       "        text-align: right;\n",
       "    }\n",
       "</style>\n",
       "<table border=\"1\" class=\"dataframe\">\n",
       "  <thead>\n",
       "    <tr style=\"text-align: right;\">\n",
       "      <th></th>\n",
       "      <th>Unnamed: 0</th>\n",
       "      <th>time</th>\n",
       "      <th>pre_rect</th>\n",
       "      <th>post_rect</th>\n",
       "      <th>labels</th>\n",
       "    </tr>\n",
       "  </thead>\n",
       "  <tbody>\n",
       "    <tr>\n",
       "      <th>0</th>\n",
       "      <td>0</td>\n",
       "      <td>0.00</td>\n",
       "      <td>-0.062256</td>\n",
       "      <td>0.466309</td>\n",
       "      <td>NP</td>\n",
       "    </tr>\n",
       "    <tr>\n",
       "      <th>1</th>\n",
       "      <td>1</td>\n",
       "      <td>0.01</td>\n",
       "      <td>-0.075684</td>\n",
       "      <td>0.466309</td>\n",
       "      <td>NP</td>\n",
       "    </tr>\n",
       "    <tr>\n",
       "      <th>2</th>\n",
       "      <td>2</td>\n",
       "      <td>0.02</td>\n",
       "      <td>-0.061035</td>\n",
       "      <td>0.463867</td>\n",
       "      <td>NP</td>\n",
       "    </tr>\n",
       "    <tr>\n",
       "      <th>3</th>\n",
       "      <td>3</td>\n",
       "      <td>0.03</td>\n",
       "      <td>-0.061035</td>\n",
       "      <td>0.457764</td>\n",
       "      <td>NP</td>\n",
       "    </tr>\n",
       "    <tr>\n",
       "      <th>4</th>\n",
       "      <td>4</td>\n",
       "      <td>0.04</td>\n",
       "      <td>-0.063477</td>\n",
       "      <td>0.452881</td>\n",
       "      <td>NP</td>\n",
       "    </tr>\n",
       "    <tr>\n",
       "      <th>...</th>\n",
       "      <td>...</td>\n",
       "      <td>...</td>\n",
       "      <td>...</td>\n",
       "      <td>...</td>\n",
       "      <td>...</td>\n",
       "    </tr>\n",
       "    <tr>\n",
       "      <th>227528</th>\n",
       "      <td>227528</td>\n",
       "      <td>2275.28</td>\n",
       "      <td>-0.001221</td>\n",
       "      <td>-0.001221</td>\n",
       "      <td>NP</td>\n",
       "    </tr>\n",
       "    <tr>\n",
       "      <th>227529</th>\n",
       "      <td>227529</td>\n",
       "      <td>2275.29</td>\n",
       "      <td>-0.001221</td>\n",
       "      <td>-0.001221</td>\n",
       "      <td>NP</td>\n",
       "    </tr>\n",
       "    <tr>\n",
       "      <th>227530</th>\n",
       "      <td>227530</td>\n",
       "      <td>2275.30</td>\n",
       "      <td>-0.001221</td>\n",
       "      <td>-0.001221</td>\n",
       "      <td>NP</td>\n",
       "    </tr>\n",
       "    <tr>\n",
       "      <th>227531</th>\n",
       "      <td>227531</td>\n",
       "      <td>2275.31</td>\n",
       "      <td>-0.001221</td>\n",
       "      <td>-0.001221</td>\n",
       "      <td>NP</td>\n",
       "    </tr>\n",
       "    <tr>\n",
       "      <th>227532</th>\n",
       "      <td>227532</td>\n",
       "      <td>2275.32</td>\n",
       "      <td>-0.001221</td>\n",
       "      <td>-0.001221</td>\n",
       "      <td>NP</td>\n",
       "    </tr>\n",
       "  </tbody>\n",
       "</table>\n",
       "<p>227533 rows × 5 columns</p>\n",
       "</div>"
      ],
      "text/plain": [
       "        Unnamed: 0     time  pre_rect  post_rect labels\n",
       "0                0     0.00 -0.062256   0.466309     NP\n",
       "1                1     0.01 -0.075684   0.466309     NP\n",
       "2                2     0.02 -0.061035   0.463867     NP\n",
       "3                3     0.03 -0.061035   0.457764     NP\n",
       "4                4     0.04 -0.063477   0.452881     NP\n",
       "...            ...      ...       ...        ...    ...\n",
       "227528      227528  2275.28 -0.001221  -0.001221     NP\n",
       "227529      227529  2275.29 -0.001221  -0.001221     NP\n",
       "227530      227530  2275.30 -0.001221  -0.001221     NP\n",
       "227531      227531  2275.31 -0.001221  -0.001221     NP\n",
       "227532      227532  2275.32 -0.001221  -0.001221     NP\n",
       "\n",
       "[227533 rows x 5 columns]"
      ]
     },
     "execution_count": 14,
     "metadata": {},
     "output_type": "execute_result"
    }
   ],
   "source": [
    "dataframes[0]"
   ]
  },
  {
   "cell_type": "code",
   "execution_count": 16,
   "id": "370f2644-a4f2-4e5e-bbe7-7a284dd3e663",
   "metadata": {},
   "outputs": [
    {
     "name": "stdout",
     "output_type": "stream",
     "text": [
      "0 1 2 3 4 5 6 7 8 9 10 11 12 13 14 15 16 17 18 19 20 21 22 23 "
     ]
    }
   ],
   "source": [
    "transformed_dataframes = []\n",
    "\n",
    "#df = dataframes[0]\n",
    "for ii, df in enumerate(dataframes):\n",
    "\n",
    "    print(ii, end=' ')\n",
    "    \n",
    "    num_chunks = len(df) // chunk_size\n",
    "    chunks = np.array_split(df[:num_chunks*chunk_size], num_chunks)\n",
    "\n",
    "    columns = defaultdict(list)\n",
    "\n",
    "    #chunk = chunks[0]\n",
    "    for chunk in chunks:\n",
    "\n",
    "        # start at 1 to ignore the DC component\n",
    "        chunk_fft = np.abs(fft(chunk[\"pre_rect\"].values))[1:chunk_size//2]\n",
    "        chunk_freqs = fftfreq(chunk_size, 1 / sample_rate)[1:chunk_size//2]\n",
    "        \n",
    "        # https://stackoverflow.com/a/20826735\n",
    "        # TODO: maybe do peak extraction on FFT instead of just indices of max vals\n",
    "        # Extract indices of frequencies with greatest amplitude\n",
    "        num_largest = 6\n",
    "        indices = (-chunk_fft).argpartition(num_largest, axis=None)[:num_largest]\n",
    "\n",
    "        # Sort indices based on amplitudes of corresponding frequencies\n",
    "        indices = sorted(indices, key=lambda x: chunk_fft[x], reverse=True)\n",
    "        \n",
    "        # Get the frequencies\n",
    "        peak_freqs = chunk_freqs[indices]\n",
    "        \n",
    "        #print(peak_freqs)\n",
    "        #plt.plot(chunk_freqs, chunk_fft, '.-')\n",
    "        #plt.grid()\n",
    "        #for i in indices:\n",
    "        #    plt.axvline(chunk_freqs[i])\n",
    "\n",
    "        labels, label_counts = np.unique(chunk[\"labels\"], return_counts=True)\n",
    "        label = labels[np.argmax(label_counts)]\n",
    "\n",
    "        for i in range(num_largest):\n",
    "            columns[f\"F{i}\"].append(peak_freqs[i])\n",
    "        columns[\"mean\"].append(np.mean(chunk[\"pre_rect\"]))\n",
    "        columns[\"std\"].append(np.std(chunk[\"pre_rect\"]))\n",
    "        #columns[\"resistance\"].append(chunk[\"resistance\"].values[0])\n",
    "        # AeA data has no voltage column\n",
    "        if \"voltage\" in chunk.columns:\n",
    "            columns[\"volts\"].append(chunk[\"voltage\"].values[0])\n",
    "        columns[\"time\"].append(chunk[\"time\"].values[0])\n",
    "        # AeA data has no current column\n",
    "        if \"current\" in chunk.columns:\n",
    "            columns[\"current\"].append(0 if chunk[\"current\"].values[0] == \"AC\" else 1)\n",
    "        columns[\"label\"].append(label)\n",
    "\n",
    "    # lookbehind stuff\n",
    "    '''\n",
    "    n_lookbehind = 5\n",
    "    lookbehinds = range(1, n_lookbehind + 1)\n",
    "    #lookbehinds = [1, 10, 20]\n",
    "\n",
    "    look_columns = \\\n",
    "        [f\"F{i}\" for i in range(num_largest)] + \\\n",
    "        [\"mean\", \"std\", \"volts\", \"current\"]\n",
    "        #[\"time\"]\n",
    "        #[\"label\"]\n",
    "    #for i in range(num_largest):\n",
    "    for c in look_columns:\n",
    "        for j in lookbehinds:\n",
    "            #col = columns[f\"F{i}\"]\n",
    "            col = columns[c]\n",
    "            arr = np.append(np.zeros(j), col[:-j])\n",
    "            assert len(col) == len(arr)\n",
    "            columns[f\"{c}-{j}\"] = arr\n",
    "    '''\n",
    "\n",
    "    df_out = pd.DataFrame(columns)\n",
    "\n",
    "    transformed_dataframes.append(df_out)\n",
    "\n",
    "#df_out"
   ]
  },
  {
   "cell_type": "code",
   "execution_count": 17,
   "id": "59b4644e-91be-4604-ae49-01e02fd33151",
   "metadata": {},
   "outputs": [],
   "source": [
    "from sklearn.model_selection import train_test_split, cross_val_score\n",
    "from sklearn.ensemble import RandomForestClassifier"
   ]
  },
  {
   "cell_type": "code",
   "execution_count": 23,
   "id": "591e1b6c-f4c9-4495-b446-a6cb59ba7fec",
   "metadata": {},
   "outputs": [],
   "source": [
    "test_data = transformed_dataframes[:8]\n",
    "train_data = transformed_dataframes[8:]\n",
    "test = pd.concat(test_data)\n",
    "train = pd.concat(train_data)\n",
    "\n",
    "X_test = test.drop([\"label\"], axis=1)\n",
    "Y_test = test[\"label\"]\n",
    "X_train = train.drop([\"label\"], axis=1)\n",
    "Y_train = train[\"label\"]\n",
    "\n",
    "#X_train, X_test, Y_train, Y_test = train_test_split(X, Y, test_size=0.5, random_state=190)\n",
    "model = RandomForestClassifier(n_estimators=100, random_state=41, class_weight=\"balanced\")\n",
    "model.fit(X_train, Y_train)\n",
    "predicted = model.score(X_test, Y_test)\n",
    "#scores"
   ]
  },
  {
   "cell_type": "code",
   "execution_count": 24,
   "id": "3957d6fb-7751-47f6-ae9e-d911878f9e39",
   "metadata": {},
   "outputs": [
    {
     "data": {
      "text/plain": [
       "0.857998244980127"
      ]
     },
     "execution_count": 24,
     "metadata": {},
     "output_type": "execute_result"
    }
   ],
   "source": [
    "#scores.mean(), scores.std()\n",
    "predicted"
   ]
  },
  {
   "cell_type": "code",
   "execution_count": 29,
   "id": "1dae9510-b00d-4a4b-a920-ae437cf1e7aa",
   "metadata": {},
   "outputs": [
    {
     "data": {
      "text/plain": [
       "Text(0.5, 1.0, 'Random Forest Classifier Confusion Matrix')"
      ]
     },
     "execution_count": 29,
     "metadata": {},
     "output_type": "execute_result"
    }
   ],
   "source": [
    "from sklearn.metrics import ConfusionMatrixDisplay\n",
    "ConfusionMatrixDisplay.from_estimator(model, X_test, Y_test)\n",
    "plt.title(\"Random Forest Classifier Confusion Matrix\")"
   ]
  },
  {
   "cell_type": "markdown",
   "id": "8f1554c8",
   "metadata": {},
   "source": [
    "Make a nice plot so we can see how the classifier was classifying things"
   ]
  },
  {
   "cell_type": "code",
   "execution_count": 26,
   "id": "e310ad18",
   "metadata": {
    "scrolled": true
   },
   "outputs": [
    {
     "data": {
      "text/plain": [
       "array(['NP', 'J', 'K', 'L', 'M', 'N'], dtype=object)"
      ]
     },
     "execution_count": 26,
     "metadata": {},
     "output_type": "execute_result"
    }
   ],
   "source": [
    "Y_test.unique()"
   ]
  },
  {
   "cell_type": "code",
   "execution_count": 12,
   "id": "1e2379c5-664e-4976-a535-92152b4245de",
   "metadata": {},
   "outputs": [
    {
     "ename": "AssertionError",
     "evalue": "",
     "output_type": "error",
     "traceback": [
      "\u001b[0;31m---------------------------------------------------------------------------\u001b[0m",
      "\u001b[0;31mAssertionError\u001b[0m                            Traceback (most recent call last)",
      "Cell \u001b[0;32mIn [12], line 1\u001b[0m\n\u001b[0;32m----> 1\u001b[0m \u001b[38;5;28;01massert\u001b[39;00m \u001b[38;5;28;01mFalse\u001b[39;00m\n",
      "\u001b[0;31mAssertionError\u001b[0m: "
     ]
    }
   ],
   "source": [
    "assert False"
   ]
  },
  {
   "cell_type": "code",
   "execution_count": 30,
   "id": "6ca9ec84",
   "metadata": {},
   "outputs": [
    {
     "name": "stderr",
     "output_type": "stream",
     "text": [
      "qt.qpa.wayland: Wayland does not support QWindow::requestActivate()\n",
      "qt.qpa.wayland: Wayland does not support QWindow::requestActivate()\n",
      "qt.qpa.wayland: Wayland does not support QWindow::requestActivate()\n",
      "qt.qpa.wayland: Wayland does not support QWindow::requestActivate()\n",
      "qt.qpa.wayland: Wayland does not support QWindow::requestActivate()\n",
      "qt.qpa.wayland: Wayland does not support QWindow::requestActivate()\n",
      "qt.qpa.wayland: Wayland does not support QWindow::requestActivate()\n",
      "qt.qpa.wayland: Wayland does not support QWindow::requestActivate()\n"
     ]
    },
    {
     "ename": "KeyboardInterrupt",
     "evalue": "",
     "output_type": "error",
     "traceback": [
      "\u001b[0;31m---------------------------------------------------------------------------\u001b[0m",
      "\u001b[0;31mKeyboardInterrupt\u001b[0m                         Traceback (most recent call last)",
      "Cell \u001b[0;32mIn [30], line 64\u001b[0m\n\u001b[1;32m     62\u001b[0m probs \u001b[38;5;241m=\u001b[39m model\u001b[38;5;241m.\u001b[39mpredict_proba(transformed_df\u001b[38;5;241m.\u001b[39mdrop([\u001b[38;5;124m\"\u001b[39m\u001b[38;5;124mlabel\u001b[39m\u001b[38;5;124m\"\u001b[39m], axis\u001b[38;5;241m=\u001b[39m\u001b[38;5;241m1\u001b[39m))\u001b[38;5;241m.\u001b[39mmax(axis\u001b[38;5;241m=\u001b[39m\u001b[38;5;241m1\u001b[39m)\u001b[38;5;241m.\u001b[39mrepeat(sample_rate)\n\u001b[1;32m     63\u001b[0m plot_labels(df[\u001b[38;5;124m\"\u001b[39m\u001b[38;5;124mtime\u001b[39m\u001b[38;5;124m\"\u001b[39m], df[\u001b[38;5;124m\"\u001b[39m\u001b[38;5;124mpre_rect\u001b[39m\u001b[38;5;124m\"\u001b[39m], df[\u001b[38;5;124m\"\u001b[39m\u001b[38;5;124mlabels\u001b[39m\u001b[38;5;124m\"\u001b[39m], pred_labels, probs)\n\u001b[0;32m---> 64\u001b[0m \u001b[43mplt\u001b[49m\u001b[38;5;241;43m.\u001b[39;49m\u001b[43mshow\u001b[49m\u001b[43m(\u001b[49m\u001b[43mblock\u001b[49m\u001b[38;5;241;43m=\u001b[39;49m\u001b[38;5;28;43;01mTrue\u001b[39;49;00m\u001b[43m)\u001b[49m\n",
      "File \u001b[0;32m~/.local/lib/python3.11/site-packages/matplotlib/pyplot.py:612\u001b[0m, in \u001b[0;36mshow\u001b[0;34m(*args, **kwargs)\u001b[0m\n\u001b[1;32m    568\u001b[0m \u001b[38;5;250m\u001b[39m\u001b[38;5;124;03m\"\"\"\u001b[39;00m\n\u001b[1;32m    569\u001b[0m \u001b[38;5;124;03mDisplay all open figures.\u001b[39;00m\n\u001b[1;32m    570\u001b[0m \n\u001b[0;32m   (...)\u001b[0m\n\u001b[1;32m    609\u001b[0m \u001b[38;5;124;03mexplicitly there.\u001b[39;00m\n\u001b[1;32m    610\u001b[0m \u001b[38;5;124;03m\"\"\"\u001b[39;00m\n\u001b[1;32m    611\u001b[0m _warn_if_gui_out_of_main_thread()\n\u001b[0;32m--> 612\u001b[0m \u001b[38;5;28;01mreturn\u001b[39;00m \u001b[43m_get_backend_mod\u001b[49m\u001b[43m(\u001b[49m\u001b[43m)\u001b[49m\u001b[38;5;241;43m.\u001b[39;49m\u001b[43mshow\u001b[49m\u001b[43m(\u001b[49m\u001b[38;5;241;43m*\u001b[39;49m\u001b[43margs\u001b[49m\u001b[43m,\u001b[49m\u001b[43m \u001b[49m\u001b[38;5;241;43m*\u001b[39;49m\u001b[38;5;241;43m*\u001b[39;49m\u001b[43mkwargs\u001b[49m\u001b[43m)\u001b[49m\n",
      "File \u001b[0;32m~/.local/lib/python3.11/site-packages/matplotlib/backend_bases.py:3553\u001b[0m, in \u001b[0;36m_Backend.show\u001b[0;34m(cls, block)\u001b[0m\n\u001b[1;32m   3551\u001b[0m     block \u001b[38;5;241m=\u001b[39m \u001b[38;5;129;01mnot\u001b[39;00m ipython_pylab \u001b[38;5;129;01mand\u001b[39;00m \u001b[38;5;129;01mnot\u001b[39;00m is_interactive()\n\u001b[1;32m   3552\u001b[0m \u001b[38;5;28;01mif\u001b[39;00m block:\n\u001b[0;32m-> 3553\u001b[0m     \u001b[38;5;28;43mcls\u001b[39;49m\u001b[38;5;241;43m.\u001b[39;49m\u001b[43mmainloop\u001b[49m\u001b[43m(\u001b[49m\u001b[43m)\u001b[49m\n",
      "File \u001b[0;32m~/.local/lib/python3.11/site-packages/matplotlib/backends/backend_qt.py:632\u001b[0m, in \u001b[0;36mFigureManagerQT.start_main_loop\u001b[0;34m(cls)\u001b[0m\n\u001b[1;32m    630\u001b[0m qapp \u001b[38;5;241m=\u001b[39m QtWidgets\u001b[38;5;241m.\u001b[39mQApplication\u001b[38;5;241m.\u001b[39minstance()\n\u001b[1;32m    631\u001b[0m \u001b[38;5;28;01mif\u001b[39;00m qapp:\n\u001b[0;32m--> 632\u001b[0m \u001b[43m    \u001b[49m\u001b[38;5;28;43;01mwith\u001b[39;49;00m\u001b[43m \u001b[49m\u001b[43m_allow_interrupt_qt\u001b[49m\u001b[43m(\u001b[49m\u001b[43mqapp\u001b[49m\u001b[43m)\u001b[49m\u001b[43m:\u001b[49m\n\u001b[1;32m    633\u001b[0m \u001b[43m        \u001b[49m\u001b[43mqt_compat\u001b[49m\u001b[38;5;241;43m.\u001b[39;49m\u001b[43m_exec\u001b[49m\u001b[43m(\u001b[49m\u001b[43mqapp\u001b[49m\u001b[43m)\u001b[49m\n",
      "File \u001b[0;32m/usr/lib/python3.11/contextlib.py:144\u001b[0m, in \u001b[0;36m_GeneratorContextManager.__exit__\u001b[0;34m(self, typ, value, traceback)\u001b[0m\n\u001b[1;32m    142\u001b[0m \u001b[38;5;28;01mif\u001b[39;00m typ \u001b[38;5;129;01mis\u001b[39;00m \u001b[38;5;28;01mNone\u001b[39;00m:\n\u001b[1;32m    143\u001b[0m     \u001b[38;5;28;01mtry\u001b[39;00m:\n\u001b[0;32m--> 144\u001b[0m         \u001b[38;5;28mnext\u001b[39m(\u001b[38;5;28mself\u001b[39m\u001b[38;5;241m.\u001b[39mgen)\n\u001b[1;32m    145\u001b[0m     \u001b[38;5;28;01mexcept\u001b[39;00m \u001b[38;5;167;01mStopIteration\u001b[39;00m:\n\u001b[1;32m    146\u001b[0m         \u001b[38;5;28;01mreturn\u001b[39;00m \u001b[38;5;28;01mFalse\u001b[39;00m\n",
      "File \u001b[0;32m~/.local/lib/python3.11/site-packages/matplotlib/backend_bases.py:1672\u001b[0m, in \u001b[0;36m_allow_interrupt\u001b[0;34m(prepare_notifier, handle_sigint)\u001b[0m\n\u001b[1;32m   1670\u001b[0m signal\u001b[38;5;241m.\u001b[39msignal(signal\u001b[38;5;241m.\u001b[39mSIGINT, old_sigint_handler)\n\u001b[1;32m   1671\u001b[0m \u001b[38;5;28;01mif\u001b[39;00m handler_args \u001b[38;5;129;01mis\u001b[39;00m \u001b[38;5;129;01mnot\u001b[39;00m \u001b[38;5;28;01mNone\u001b[39;00m:\n\u001b[0;32m-> 1672\u001b[0m     \u001b[43mold_sigint_handler\u001b[49m\u001b[43m(\u001b[49m\u001b[38;5;241;43m*\u001b[39;49m\u001b[43mhandler_args\u001b[49m\u001b[43m)\u001b[49m\n",
      "\u001b[0;31mKeyboardInterrupt\u001b[0m: "
     ]
    },
    {
     "name": "stderr",
     "output_type": "stream",
     "text": [
      "QSocketNotifier: Invalid socket 75 and type 'Read', disabling...\n"
     ]
    }
   ],
   "source": [
    "label_to_color = {\n",
    "    \"NP\": \"red\",\n",
    "    \"J\": \"blue\",\n",
    "    \"K\": \"green\",\n",
    "    \"L\": \"purple\",\n",
    "    \"M\": \"pink\",\n",
    "    \"N\": \"cyan\",\n",
    "    \"Z\": \"orange\"\n",
    "}\n",
    "\n",
    "def plot_labels(time, voltage, true_labels, pred_labels, probs = None):\n",
    "    \"\"\"\n",
    "    plot_labels produced a matplotlib figure containing three subplots\n",
    "        that visualize a waveform along with the true and predicted labels\n",
    "    Input:\n",
    "        time: a series of time values\n",
    "        voltage: a time series of voltage values from the waveform\n",
    "        true_labels: a time series of the true label for each time point\n",
    "        pred_labels: a time series of the predicted labels for each time point\n",
    "    Output:\n",
    "        (fig, axs): a tuple\n",
    "    \"\"\"\n",
    "    fig, axs = plt.subplots(4 if len(probs) > 0 else 3, 1, sharex = True)\n",
    "    recording = 1\n",
    "    fill_min, fill_max = voltage.min(), voltage.max()\n",
    "    \n",
    "    # First plot will be the true labels\n",
    "    axs[0].plot(time, voltage, color = \"black\")\n",
    "    for label, color in label_to_color.items():\n",
    "        fill = axs[0].fill_between(time, fill_min, fill_max, \n",
    "                where = (true_labels == label), color=color, alpha = 0.5)\n",
    "        fill.set_label(label)\n",
    "    axs[0].legend(bbox_to_anchor=(0.5, 1), \n",
    "                  bbox_transform=fig.transFigure, loc=\"upper center\", ncol=9)\n",
    "    axs[0].set_title(\"True Labels\")\n",
    "    # Second plot will be the predicted labels\n",
    "    axs[1].plot(time, voltage, color = \"black\")\n",
    "    for label, color in label_to_color.items():\n",
    "        axs[1].fill_between(time[:len(pred_labels)], fill_min, fill_max, \n",
    "                where = (pred_labels == label), color=color, alpha = 0.5)\n",
    "    axs[1].set_title(\"Predicted Labels\")\n",
    "    # Third plot will be marked where there is a difference between the two\n",
    "    axs[2].plot(time, voltage, color = \"black\")\n",
    "    axs[2].fill_between(time[:len(pred_labels)], fill_min, fill_max, \n",
    "            where = (pred_labels != true_labels[:len(pred_labels)]), color = \"gray\", alpha = 0.5)\n",
    "    axs[2].set_title(\"Incorrect Labels\")\n",
    "    if len(probs) > 0:\n",
    "        # Fourth plot with confidences\n",
    "        axs[3].plot(time[:len(probs)], probs)\n",
    "        axs[3].set_title(\"Confidence\")\n",
    "        axs[3].set_ylim([0, 1])\n",
    "        # Axes titles and such\n",
    "    fig.supxlabel(\"Time (s)\")\n",
    "    fig.supylabel(\"Volts\")\n",
    "    fig.tight_layout()\n",
    "    \n",
    "for i in range(8):\n",
    "    recording = i\n",
    "    df = dataframes[recording]\n",
    "    transformed_df = test_data[recording]\n",
    "    pred_labels = model.predict(transformed_df.drop([\"label\"], axis=1)).repeat(sample_rate)\n",
    "    probs = model.predict_proba(transformed_df.drop([\"label\"], axis=1)).max(axis=1).repeat(sample_rate)\n",
    "    plot_labels(df[\"time\"], df[\"pre_rect\"], df[\"labels\"], pred_labels, probs)\n",
    "    plt.show(block=True)"
   ]
  }
 ],
 "metadata": {
  "kernelspec": {
   "display_name": "Python 3 (ipykernel)",
   "language": "python",
   "name": "python3"
  },
  "language_info": {
   "codemirror_mode": {
    "name": "ipython",
    "version": 3
   },
   "file_extension": ".py",
   "mimetype": "text/x-python",
   "name": "python",
   "nbconvert_exporter": "python",
   "pygments_lexer": "ipython3",
   "version": "3.11.2"
  }
 },
 "nbformat": 4,
 "nbformat_minor": 5
}
