{
 "cells": [
  {
   "cell_type": "markdown",
   "id": "ee0ae5ef",
   "metadata": {},
   "source": [
    "Import Libraries"
   ]
  },
  {
   "cell_type": "code",
   "execution_count": 1,
   "id": "6c958762",
   "metadata": {},
   "outputs": [],
   "source": [
    "import pandas as pd\n",
    "import numpy as np\n",
    "import matplotlib.pylab as plt\n",
    "import seaborn as sns\n",
    "import glob\n",
    "import os\n",
    "from collections import defaultdict"
   ]
  },
  {
   "cell_type": "markdown",
   "id": "e9dd29b6",
   "metadata": {},
   "source": [
    "Import Data"
   ]
  },
  {
   "cell_type": "code",
   "execution_count": 2,
   "id": "0f977c5f",
   "metadata": {},
   "outputs": [],
   "source": [
    "data_dir = os.path.expanduser(\"~/Documents/Senior/Fall/Clinic/Data Cleaner/tarsalis_data_clean\")\n",
    "os.chdir(data_dir)\n",
    "filenames = glob.glob('*.csv')\n",
    "dataframes = [pd.read_csv(f) for f in filenames]"
   ]
  },
  {
   "cell_type": "code",
   "execution_count": 56,
   "id": "aad38393",
   "metadata": {},
   "outputs": [
    {
     "name": "stderr",
     "output_type": "stream",
     "text": [
      "C:\\Users\\zbtra\\AppData\\Local\\Temp\\ipykernel_22448\\4028168828.py:7: SettingWithCopyWarning: \n",
      "A value is trying to be set on a copy of a slice from a DataFrame.\n",
      "Try using .loc[row_indexer,col_indexer] = value instead\n",
      "\n",
      "See the caveats in the documentation: https://pandas.pydata.org/pandas-docs/stable/user_guide/indexing.html#returning-a-view-versus-a-copy\n",
      "  data[\"amp\"] = data[\"pre_rect\"].rolling(100).std()\n",
      "C:\\Users\\zbtra\\AppData\\Local\\Temp\\ipykernel_22448\\4028168828.py:7: SettingWithCopyWarning: \n",
      "A value is trying to be set on a copy of a slice from a DataFrame.\n",
      "Try using .loc[row_indexer,col_indexer] = value instead\n",
      "\n",
      "See the caveats in the documentation: https://pandas.pydata.org/pandas-docs/stable/user_guide/indexing.html#returning-a-view-versus-a-copy\n",
      "  data[\"amp\"] = data[\"pre_rect\"].rolling(100).std()\n",
      "C:\\Users\\zbtra\\AppData\\Local\\Temp\\ipykernel_22448\\4028168828.py:7: SettingWithCopyWarning: \n",
      "A value is trying to be set on a copy of a slice from a DataFrame.\n",
      "Try using .loc[row_indexer,col_indexer] = value instead\n",
      "\n",
      "See the caveats in the documentation: https://pandas.pydata.org/pandas-docs/stable/user_guide/indexing.html#returning-a-view-versus-a-copy\n",
      "  data[\"amp\"] = data[\"pre_rect\"].rolling(100).std()\n",
      "C:\\Users\\zbtra\\AppData\\Local\\Temp\\ipykernel_22448\\4028168828.py:7: SettingWithCopyWarning: \n",
      "A value is trying to be set on a copy of a slice from a DataFrame.\n",
      "Try using .loc[row_indexer,col_indexer] = value instead\n",
      "\n",
      "See the caveats in the documentation: https://pandas.pydata.org/pandas-docs/stable/user_guide/indexing.html#returning-a-view-versus-a-copy\n",
      "  data[\"amp\"] = data[\"pre_rect\"].rolling(100).std()\n",
      "C:\\Users\\zbtra\\AppData\\Local\\Temp\\ipykernel_22448\\4028168828.py:7: SettingWithCopyWarning: \n",
      "A value is trying to be set on a copy of a slice from a DataFrame.\n",
      "Try using .loc[row_indexer,col_indexer] = value instead\n",
      "\n",
      "See the caveats in the documentation: https://pandas.pydata.org/pandas-docs/stable/user_guide/indexing.html#returning-a-view-versus-a-copy\n",
      "  data[\"amp\"] = data[\"pre_rect\"].rolling(100).std()\n",
      "C:\\Users\\zbtra\\AppData\\Local\\Temp\\ipykernel_22448\\4028168828.py:7: SettingWithCopyWarning: \n",
      "A value is trying to be set on a copy of a slice from a DataFrame.\n",
      "Try using .loc[row_indexer,col_indexer] = value instead\n",
      "\n",
      "See the caveats in the documentation: https://pandas.pydata.org/pandas-docs/stable/user_guide/indexing.html#returning-a-view-versus-a-copy\n",
      "  data[\"amp\"] = data[\"pre_rect\"].rolling(100).std()\n"
     ]
    }
   ],
   "source": [
    "%matplotlib qt\n",
    "# Ones with good separations: 0, 40\n",
    "# Bad separations (in one plot): 1\n",
    "# Bad separation (in both): 3, 5, 6!\n",
    "for i in [0, 40, 1, 3, 5, 6]:\n",
    "    data = dataframes[i].query(\"pre_rect > -0.1 and labels in ['L', 'M', 'N', 'NP']\")\n",
    "    data[\"amp\"] = data[\"pre_rect\"].rolling(100).std()\n",
    "    fig, axs = plt.subplots(2)\n",
    "    sns.histplot(data = data, x = \"pre_rect\", hue = \"labels\", ax = axs[0])\n",
    "    sns.histplot(data = data, x = \"amp\", hue = \"labels\", ax = axs[1])\n",
    "    plt.tight_layout()\n",
    "    plt.show()"
   ]
  },
  {
   "cell_type": "code",
   "execution_count": 53,
   "id": "a277bf1d",
   "metadata": {},
   "outputs": [
    {
     "data": {
      "text/plain": [
       "[<matplotlib.lines.Line2D at 0x1c6884c8f50>]"
      ]
     },
     "execution_count": 53,
     "metadata": {},
     "output_type": "execute_result"
    }
   ],
   "source": [
    "plt.plot(dataframes[0][\"pre_rect\"])"
   ]
  },
  {
   "cell_type": "code",
   "execution_count": 52,
   "id": "393b9bae",
   "metadata": {},
   "outputs": [
    {
     "data": {
      "text/plain": [
       "[<matplotlib.lines.Line2D at 0x1c68871b110>]"
      ]
     },
     "execution_count": 52,
     "metadata": {},
     "output_type": "execute_result"
    }
   ],
   "source": [
    "plt.plot(dataframes[6][\"pre_rect\"])"
   ]
  },
  {
   "cell_type": "markdown",
   "id": "d6d80f82",
   "metadata": {},
   "source": [
    "Extract Changepoints"
   ]
  },
  {
   "cell_type": "code",
   "execution_count": 11,
   "id": "3b7c3406",
   "metadata": {},
   "outputs": [],
   "source": [
    "changepoints = []\n",
    "for df in dataframes:\n",
    "    x = df[\"pre_rect\"].values\n",
    "    cp = []\n",
    "    labels = df[\"labels\"].values\n",
    "    for i in range(len(labels)):\n",
    "        if i == 0:\n",
    "            cp.append(i)\n",
    "        elif i > 0:\n",
    "            if labels[i] != labels[i - 1]:\n",
    "                cp.append(i)\n",
    "        elif i == len(labels) - 1:\n",
    "            cp.append(i)\n",
    "    changepoints.append(cp)"
   ]
  },
  {
   "cell_type": "markdown",
   "id": "bfd1a160",
   "metadata": {},
   "source": [
    "Make Visualizations"
   ]
  },
  {
   "cell_type": "code",
   "execution_count": 197,
   "id": "6af74460",
   "metadata": {},
   "outputs": [],
   "source": [
    "label_split = defaultdict(list)\n",
    "for r in range(len(changepoints[1:2])):\n",
    "    r += 4\n",
    "    for i in range(len(changepoints[r]) - 1):\n",
    "        start = changepoints[r][i]\n",
    "        end = changepoints[r][i+1]\n",
    "        label = dataframes[r][\"labels\"][start]\n",
    "        label_split[label].append(dataframes[r][\"pre_rect\"].values[start:end])"
   ]
  },
  {
   "cell_type": "code",
   "execution_count": 198,
   "id": "5f696458",
   "metadata": {},
   "outputs": [
    {
     "name": "stdout",
     "output_type": "stream",
     "text": [
      "NP 1\n",
      "J 1\n",
      "K 1\n",
      "L 1\n",
      "M 1\n",
      "Z 1\n"
     ]
    }
   ],
   "source": [
    "for l, v in label_split.items():\n",
    "    print(l, len(v))"
   ]
  },
  {
   "cell_type": "code",
   "execution_count": 199,
   "id": "464e98ba",
   "metadata": {},
   "outputs": [
    {
     "data": {
      "text/plain": [
       "0        NP\n",
       "3400      J\n",
       "4424      K\n",
       "4944      L\n",
       "17784     M\n",
       "37070     Z\n",
       "37083    NP\n",
       "Name: labels, dtype: object"
      ]
     },
     "execution_count": 199,
     "metadata": {},
     "output_type": "execute_result"
    }
   ],
   "source": [
    "dataframes[4][\"labels\"][changepoints[4]]"
   ]
  },
  {
   "cell_type": "code",
   "execution_count": 201,
   "id": "219d39a6",
   "metadata": {},
   "outputs": [
    {
     "data": {
      "text/plain": [
       "[]"
      ]
     },
     "execution_count": 201,
     "metadata": {},
     "output_type": "execute_result"
    }
   ],
   "source": [
    "%matplotlib qt\n",
    "fig, ax = plt.subplots()\n",
    "sns.histplot(x = label_split[\"K\"][0],  ax = ax, stat = \"percent\", binwidth = 0.01, kde=True, color = \"red\")\n",
    "sns.histplot(x = label_split[\"L\"][0],  ax = ax, stat = \"percent\", binwidth = 0.01, kde=True, color = \"orange\")\n",
    "sns.histplot(x = label_split[\"M\"][0],  ax = ax, stat = \"percent\", binwidth = 0.01, kde=True, color = \"green\")\n",
    "ax.set_xlabel(\"Volts\")\n",
    "ax.plot()"
   ]
  },
  {
   "cell_type": "code",
   "execution_count": 210,
   "id": "cb247e1b",
   "metadata": {},
   "outputs": [],
   "source": [
    "recording = 0\n",
    "plt.plot(dataframes[recording][\"time\"], dataframes[recording][\"post_rect\"])\n",
    "plt.plot(dataframes[recording][\"time\"], dataframes[recording][\"pre_rect\"])\n",
    "plt.vlines(np.array(changepoints[recording]) // 100, ymin = -2, ymax = 10, color = \"black\")\n",
    "plt.xlabel(\"Time\")\n",
    "plt.ylabel(\"Volts\")\n",
    "plt.show()"
   ]
  },
  {
   "cell_type": "code",
   "execution_count": 211,
   "id": "03e8d0cb",
   "metadata": {},
   "outputs": [],
   "source": [
    "from hmmlearn import hmm"
   ]
  },
  {
   "cell_type": "code",
   "execution_count": 302,
   "id": "e09e9efd",
   "metadata": {},
   "outputs": [
    {
     "name": "stdout",
     "output_type": "stream",
     "text": [
      "Converged: True\t\tScore: -62186.15614659607\n",
      "Converged: True\t\tScore: 32387.452128080848\n",
      "Converged: True\t\tScore: 32469.267367243025\n",
      "Converged: True\t\tScore: 85680.88260374426\n",
      "Converged: True\t\tScore: 31444.60861985306\n",
      "Converged: True\t\tScore: 32409.770070111088\n",
      "Converged: True\t\tScore: 32407.047874768392\n",
      "Converged: True\t\tScore: 80674.14504782156\n",
      "Converged: True\t\tScore: 32406.785204305696\n",
      "Converged: True\t\tScore: 85679.34705520312\n"
     ]
    }
   ],
   "source": [
    "models = []\n",
    "scores = []\n",
    "data = (dataframes[0][\"pre_rect\"][14505:].rolling(5 * 100).mean().dropna())\n",
    "for idx in range(10):  # ten different random starting states\n",
    "    # define our hidden Markov model\n",
    "    model = hmm.GaussianHMM(n_components=3, random_state=idx,\n",
    "                           n_iter=10)\n",
    "    model.fit(data.values.reshape(-1, 1))\n",
    "    models.append(model)\n",
    "    scores.append(model.score(data.values.reshape(-1, 1)))\n",
    "    print(f'Converged: {model.monitor_.converged}\\t\\t'\n",
    "          f'Score: {scores[-1]}')"
   ]
  },
  {
   "cell_type": "code",
   "execution_count": 303,
   "id": "55987641",
   "metadata": {},
   "outputs": [
    {
     "name": "stdout",
     "output_type": "stream",
     "text": [
      "The best model had a score of 85680.88260374426 and 3 components\n"
     ]
    }
   ],
   "source": [
    "model = models[np.argmax(scores)]\n",
    "print(f'The best model had a score of {max(scores)} and '\n",
    "      f'{model.n_components} components')\n",
    "\n",
    "# use the Viterbi algorithm to predict the most likely sequence of states\n",
    "# given the model\n",
    "states = model.predict(data.values.reshape(-1, 1))"
   ]
  },
  {
   "cell_type": "code",
   "execution_count": 304,
   "id": "0e876cb7",
   "metadata": {},
   "outputs": [],
   "source": [
    "changepoints = []\n",
    "for i in range(len(states) - 1):\n",
    "    if states[i] != states[i + 1]:\n",
    "        changepoints.append(i)"
   ]
  },
  {
   "cell_type": "code",
   "execution_count": 284,
   "id": "ebfb3886",
   "metadata": {},
   "outputs": [
    {
     "data": {
      "text/plain": [
       "70257"
      ]
     },
     "execution_count": 284,
     "metadata": {},
     "output_type": "execute_result"
    }
   ],
   "source": [
    "len(states)"
   ]
  },
  {
   "cell_type": "code",
   "execution_count": 306,
   "id": "adc75ce9",
   "metadata": {},
   "outputs": [
    {
     "data": {
      "text/plain": [
       "[<matplotlib.lines.Line2D at 0x1a3bbc4ea80>]"
      ]
     },
     "execution_count": 306,
     "metadata": {},
     "output_type": "execute_result"
    }
   ],
   "source": [
    "plt.vlines(changepoints, ymin=0, ymax=2, color = \"black\")\n",
    "plt.plot(data)"
   ]
  },
  {
   "cell_type": "code",
   "execution_count": 251,
   "id": "004bbb86",
   "metadata": {},
   "outputs": [
    {
     "data": {
      "text/plain": [
       "Text(0, 0.5, 'State From')"
      ]
     },
     "execution_count": 251,
     "metadata": {},
     "output_type": "execute_result"
    }
   ],
   "source": [
    "fig, ax = plt.subplots()\n",
    "ax.imshow(model.transmat_, aspect='auto', cmap='spring')\n",
    "ax.set_title('Transition Matrix')\n",
    "ax.set_xlabel('State To')\n",
    "ax.set_ylabel('State From')"
   ]
  },
  {
   "cell_type": "code",
   "execution_count": 322,
   "id": "8c523cf6",
   "metadata": {},
   "outputs": [
    {
     "data": {
      "text/plain": [
       "[<matplotlib.lines.Line2D at 0x1a3beb1efc0>]"
      ]
     },
     "execution_count": 322,
     "metadata": {},
     "output_type": "execute_result"
    }
   ],
   "source": [
    "data1 = dataframes[0][\"pre_rect\"].rolling(100).max()\n",
    "data2 = dataframes[0][\"pre_rect\"].rolling(100).min()\n",
    "plt.plot(data1 - data2)\n",
    "plt.plot(dataframes[0][\"pre_rect\"])"
   ]
  },
  {
   "cell_type": "code",
   "execution_count": null,
   "id": "08379c65",
   "metadata": {},
   "outputs": [],
   "source": [
    "import stats"
   ]
  }
 ],
 "metadata": {
  "kernelspec": {
   "display_name": "Python 3 (ipykernel)",
   "language": "python",
   "name": "python3"
  },
  "language_info": {
   "codemirror_mode": {
    "name": "ipython",
    "version": 3
   },
   "file_extension": ".py",
   "mimetype": "text/x-python",
   "name": "python",
   "nbconvert_exporter": "python",
   "pygments_lexer": "ipython3",
   "version": "3.11.0"
  }
 },
 "nbformat": 4,
 "nbformat_minor": 5
}
