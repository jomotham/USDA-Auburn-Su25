{
 "cells": [
  {
   "cell_type": "markdown",
   "id": "ee0ae5ef",
   "metadata": {},
   "source": [
    "Import Libraries"
   ]
  },
  {
   "cell_type": "code",
   "execution_count": 1,
   "id": "6c958762",
   "metadata": {},
   "outputs": [],
   "source": [
    "import pandas as pd\n",
    "import numpy as np\n",
    "import matplotlib.pylab as plt\n",
    "import glob\n",
    "import os\n",
    "from scipy.signal import sosfilt, butter\n",
    "import ruptures as rpt"
   ]
  },
  {
   "cell_type": "markdown",
   "id": "034eec3a",
   "metadata": {},
   "source": [
    "Import Data"
   ]
  },
  {
   "cell_type": "code",
   "execution_count": 2,
   "id": "c749bddd",
   "metadata": {},
   "outputs": [],
   "source": [
    "data_dir = os.path.expanduser(\"~/Documents/Senior/Fall/Clinic/Data Cleaner/tarsalis_data_clean\")\n",
    "os.chdir(data_dir)\n",
    "filenames = glob.glob('*.csv')\n",
    "dataframes = [pd.read_csv(f) for f in filenames]"
   ]
  },
  {
   "cell_type": "markdown",
   "id": "e137655c",
   "metadata": {},
   "source": [
    "Extract Changepoints"
   ]
  },
  {
   "cell_type": "code",
   "execution_count": 3,
   "id": "2c20add2",
   "metadata": {},
   "outputs": [],
   "source": [
    "changepoints = []\n",
    "for df in dataframes:\n",
    "    x = df[\"pre_rect\"].values\n",
    "    cp = []\n",
    "    labels = df[\"labels\"].values\n",
    "    for i in range(len(labels)):\n",
    "        if i > 0:\n",
    "            if labels[i] != labels[i - 1]:\n",
    "                cp.append(i)\n",
    "        if i == len(labels) - 1:\n",
    "            cp.append(i)\n",
    "    changepoints.append(cp)"
   ]
  },
  {
   "cell_type": "code",
   "execution_count": 37,
   "id": "52222b46",
   "metadata": {},
   "outputs": [
    {
     "name": "stdout",
     "output_type": "stream",
     "text": [
      "9677\n",
      "5078\n",
      "3081\n",
      "1772\n",
      "1318\n",
      "8481\n",
      "0\n",
      "0\n",
      "0\n",
      "350\n"
     ]
    }
   ],
   "source": [
    "%matplotlib qt\n",
    "for df in dataframes[:10]:\n",
    "    ts = df[\"post_rect\"].values\n",
    "    plt.figure()\n",
    "    print(np.argmax(ts > 7.4))\n",
    "    plt.plot(ts[np.argmax(ts > 7.4) : len(ts) - np.argmax(np.flip(ts) > 7.4)])\n"
   ]
  },
  {
   "cell_type": "code",
   "execution_count": 4,
   "id": "efbd2b9d",
   "metadata": {},
   "outputs": [],
   "source": [
    "%matplotlib qt"
   ]
  },
  {
   "cell_type": "markdown",
   "id": "19e184c3",
   "metadata": {},
   "source": [
    "Create low-pass filtered waveforms"
   ]
  },
  {
   "cell_type": "code",
   "execution_count": 5,
   "id": "c54c506c",
   "metadata": {},
   "outputs": [],
   "source": [
    "sample_rate = 100 #Hz\n",
    "cutoff      = 0.1 #Hz\n",
    "sos_low_pass = butter(3, cutoff, btype = 'low', fs = sample_rate, output = 'sos')\n",
    "for df in dataframes:\n",
    "    df[\"filtered\"] = sosfilt(sos_low_pass, df[\"pre_rect\"].values)\n",
    "    #df[\"filtered\"] = np.convolve(df[\"pre_rect\"].values, np.ones(sample_rate)/sample_rate, mode='same')"
   ]
  },
  {
   "cell_type": "code",
   "execution_count": 8,
   "id": "70def6cb",
   "metadata": {},
   "outputs": [
    {
     "data": {
      "text/plain": [
       "<matplotlib.collections.LineCollection at 0x211be7c7110>"
      ]
     },
     "execution_count": 8,
     "metadata": {},
     "output_type": "execute_result"
    }
   ],
   "source": [
    "i = 3\n",
    "fig, axs = plt.subplots(2, 1, sharex = True)\n",
    "axs[0].plot(dataframes[i][\"filtered\"])\n",
    "axs[0].vlines(changepoints[i], ymin=min(dataframes[i][\"filtered\"]), \\\n",
    "                            ymax=max(dataframes[i][\"filtered\"]), color = \"black\")\n",
    "velocity = np.gradient(dataframes[i][\"filtered\"])\n",
    "axs[1].plot(velocity)\n",
    "axs[1].vlines(changepoints[i], ymin=min(velocity), \\\n",
    "                            ymax=max(velocity), color = \"black\")"
   ]
  },
  {
   "cell_type": "code",
   "execution_count": 7,
   "id": "214eae33",
   "metadata": {},
   "outputs": [],
   "source": [
    "i = 0\n",
    "algo = rpt.Window(model = \"l1\").fit(np.expand_dims(dataframes[i][\"filtered\"].values,axis=1))\n",
    "bkps = algo.predict(n_bkps = 20)\n",
    "fig, ax_arr = rpt.display(dataframes[i][\"filtered\"], changepoints[i], bkps, figsize=(10, 6))\n"
   ]
  },
  {
   "cell_type": "code",
   "execution_count": null,
   "id": "e0183697",
   "metadata": {},
   "outputs": [],
   "source": []
  }
 ],
 "metadata": {
  "kernelspec": {
   "display_name": "Python 3 (ipykernel)",
   "language": "python",
   "name": "python3"
  },
  "language_info": {
   "codemirror_mode": {
    "name": "ipython",
    "version": 3
   },
   "file_extension": ".py",
   "mimetype": "text/x-python",
   "name": "python",
   "nbconvert_exporter": "python",
   "pygments_lexer": "ipython3",
   "version": "3.12.7"
  }
 },
 "nbformat": 4,
 "nbformat_minor": 5
}
