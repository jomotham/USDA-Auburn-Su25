{
 "cells": [
  {
   "cell_type": "code",
   "execution_count": 1,
   "id": "cc71726d-8630-4a30-a639-f46a5238f090",
   "metadata": {},
   "outputs": [],
   "source": [
    "import numpy as np\n",
    "import pandas as pd\n",
    "import matplotlib.pyplot as plt\n",
    "from scipy.fft import fft, fftfreq\n",
    "import os\n",
    "import glob\n",
    "from collections import defaultdict\n",
    "import tsfel"
   ]
  },
  {
   "cell_type": "code",
   "execution_count": 2,
   "id": "0e823da0-47c2-42d2-a40d-53a1fa0e96f8",
   "metadata": {},
   "outputs": [],
   "source": [
    "sample_rate = 100 # samples/s\n",
    "chunk_seconds = 1\n",
    "chunk_size = chunk_seconds * sample_rate"
   ]
  },
  {
   "cell_type": "code",
   "execution_count": 3,
   "id": "d039cc1d-9ea4-48fd-9fe7-b192cf531fc8",
   "metadata": {},
   "outputs": [],
   "source": [
    "data_dir = os.path.expanduser(\"~/Documents/Senior/Fall/Clinic/Data Cleaner/tarsalis_data_clean\")\n",
    "os.chdir(data_dir)\n",
    "filenames = glob.glob('*.csv')"
   ]
  },
  {
   "cell_type": "code",
   "execution_count": 4,
   "id": "5c99c23f-2eeb-4a96-96b3-81e27c2a03ad",
   "metadata": {},
   "outputs": [],
   "source": [
    "dataframes = [pd.read_csv(f) for f in filenames]"
   ]
  },
  {
   "cell_type": "code",
   "execution_count": 5,
   "id": "5df75127",
   "metadata": {},
   "outputs": [],
   "source": [
    "dataframes2 = []\n",
    "for df in dataframes:\n",
    "    df['current'] = df['current'].apply(lambda x : x.strip())\n",
    "    dataframes2.append(df)"
   ]
  },
  {
   "cell_type": "code",
   "execution_count": 6,
   "id": "58cb6fbb",
   "metadata": {},
   "outputs": [
    {
     "data": {
      "text/plain": [
       "array(['AC', 'DC'], dtype=object)"
      ]
     },
     "execution_count": 6,
     "metadata": {},
     "output_type": "execute_result"
    }
   ],
   "source": [
    "all_data = pd.concat(dataframes2)\n",
    "np.unique(all_data['current'])"
   ]
  },
  {
   "cell_type": "code",
   "execution_count": 7,
   "id": "e4f5062e",
   "metadata": {},
   "outputs": [],
   "source": [
    "dataframes = dataframes2"
   ]
  },
  {
   "cell_type": "code",
   "execution_count": 8,
   "id": "c80ea098-688a-45fe-a1cf-8ad8374f959e",
   "metadata": {},
   "outputs": [],
   "source": [
    "%matplotlib qt"
   ]
  },
  {
   "cell_type": "code",
   "execution_count": 9,
   "id": "370f2644-a4f2-4e5e-bbe7-7a284dd3e663",
   "metadata": {},
   "outputs": [
    {
     "name": "stderr",
     "output_type": "stream",
     "text": [
      "C:\\Users\\zbtra\\AppData\\Local\\Packages\\PythonSoftwareFoundation.Python.3.12_qbz5n2kfra8p0\\LocalCache\\local-packages\\Python312\\site-packages\\numpy\\core\\fromnumeric.py:59: FutureWarning: 'DataFrame.swapaxes' is deprecated and will be removed in a future version. Please use 'DataFrame.transpose' instead.\n",
      "  return bound(*args, **kwds)\n"
     ]
    },
    {
     "data": {
      "text/html": [
       "<div>\n",
       "<style scoped>\n",
       "    .dataframe tbody tr th:only-of-type {\n",
       "        vertical-align: middle;\n",
       "    }\n",
       "\n",
       "    .dataframe tbody tr th {\n",
       "        vertical-align: top;\n",
       "    }\n",
       "\n",
       "    .dataframe thead th {\n",
       "        text-align: right;\n",
       "    }\n",
       "</style>\n",
       "<table border=\"1\" class=\"dataframe\">\n",
       "  <thead>\n",
       "    <tr style=\"text-align: right;\">\n",
       "      <th></th>\n",
       "      <th>F0</th>\n",
       "      <th>F1</th>\n",
       "      <th>F2</th>\n",
       "      <th>F3</th>\n",
       "      <th>F4</th>\n",
       "      <th>F5</th>\n",
       "      <th>mean</th>\n",
       "      <th>std</th>\n",
       "      <th>resistance</th>\n",
       "      <th>volts</th>\n",
       "      <th>time</th>\n",
       "      <th>current</th>\n",
       "      <th>label</th>\n",
       "    </tr>\n",
       "  </thead>\n",
       "  <tbody>\n",
       "    <tr>\n",
       "      <th>0</th>\n",
       "      <td>23.0</td>\n",
       "      <td>22.0</td>\n",
       "      <td>3.0</td>\n",
       "      <td>8.0</td>\n",
       "      <td>5.0</td>\n",
       "      <td>36.0</td>\n",
       "      <td>-0.017773</td>\n",
       "      <td>0.001225</td>\n",
       "      <td>9</td>\n",
       "      <td>75</td>\n",
       "      <td>0.0</td>\n",
       "      <td>0</td>\n",
       "      <td>NP</td>\n",
       "    </tr>\n",
       "    <tr>\n",
       "      <th>1</th>\n",
       "      <td>17.0</td>\n",
       "      <td>30.0</td>\n",
       "      <td>6.0</td>\n",
       "      <td>44.0</td>\n",
       "      <td>45.0</td>\n",
       "      <td>46.0</td>\n",
       "      <td>-0.017859</td>\n",
       "      <td>0.001229</td>\n",
       "      <td>9</td>\n",
       "      <td>75</td>\n",
       "      <td>1.0</td>\n",
       "      <td>0</td>\n",
       "      <td>NP</td>\n",
       "    </tr>\n",
       "    <tr>\n",
       "      <th>2</th>\n",
       "      <td>5.0</td>\n",
       "      <td>39.0</td>\n",
       "      <td>6.0</td>\n",
       "      <td>16.0</td>\n",
       "      <td>10.0</td>\n",
       "      <td>47.0</td>\n",
       "      <td>-0.018005</td>\n",
       "      <td>0.001308</td>\n",
       "      <td>9</td>\n",
       "      <td>75</td>\n",
       "      <td>2.0</td>\n",
       "      <td>0</td>\n",
       "      <td>NP</td>\n",
       "    </tr>\n",
       "    <tr>\n",
       "      <th>3</th>\n",
       "      <td>22.0</td>\n",
       "      <td>46.0</td>\n",
       "      <td>34.0</td>\n",
       "      <td>44.0</td>\n",
       "      <td>11.0</td>\n",
       "      <td>42.0</td>\n",
       "      <td>-0.017969</td>\n",
       "      <td>0.001209</td>\n",
       "      <td>9</td>\n",
       "      <td>75</td>\n",
       "      <td>3.0</td>\n",
       "      <td>0</td>\n",
       "      <td>NP</td>\n",
       "    </tr>\n",
       "    <tr>\n",
       "      <th>4</th>\n",
       "      <td>2.0</td>\n",
       "      <td>3.0</td>\n",
       "      <td>33.0</td>\n",
       "      <td>42.0</td>\n",
       "      <td>44.0</td>\n",
       "      <td>5.0</td>\n",
       "      <td>-0.017993</td>\n",
       "      <td>0.001059</td>\n",
       "      <td>9</td>\n",
       "      <td>75</td>\n",
       "      <td>4.0</td>\n",
       "      <td>0</td>\n",
       "      <td>NP</td>\n",
       "    </tr>\n",
       "    <tr>\n",
       "      <th>...</th>\n",
       "      <td>...</td>\n",
       "      <td>...</td>\n",
       "      <td>...</td>\n",
       "      <td>...</td>\n",
       "      <td>...</td>\n",
       "      <td>...</td>\n",
       "      <td>...</td>\n",
       "      <td>...</td>\n",
       "      <td>...</td>\n",
       "      <td>...</td>\n",
       "      <td>...</td>\n",
       "      <td>...</td>\n",
       "      <td>...</td>\n",
       "    </tr>\n",
       "    <tr>\n",
       "      <th>7746</th>\n",
       "      <td>25.0</td>\n",
       "      <td>35.0</td>\n",
       "      <td>12.0</td>\n",
       "      <td>39.0</td>\n",
       "      <td>48.0</td>\n",
       "      <td>23.0</td>\n",
       "      <td>-0.001782</td>\n",
       "      <td>0.000870</td>\n",
       "      <td>9</td>\n",
       "      <td>75</td>\n",
       "      <td>7746.0</td>\n",
       "      <td>0</td>\n",
       "      <td>NP</td>\n",
       "    </tr>\n",
       "    <tr>\n",
       "      <th>7747</th>\n",
       "      <td>41.0</td>\n",
       "      <td>16.0</td>\n",
       "      <td>33.0</td>\n",
       "      <td>39.0</td>\n",
       "      <td>20.0</td>\n",
       "      <td>8.0</td>\n",
       "      <td>-0.001575</td>\n",
       "      <td>0.000966</td>\n",
       "      <td>9</td>\n",
       "      <td>75</td>\n",
       "      <td>7747.0</td>\n",
       "      <td>0</td>\n",
       "      <td>NP</td>\n",
       "    </tr>\n",
       "    <tr>\n",
       "      <th>7748</th>\n",
       "      <td>31.0</td>\n",
       "      <td>40.0</td>\n",
       "      <td>6.0</td>\n",
       "      <td>34.0</td>\n",
       "      <td>1.0</td>\n",
       "      <td>32.0</td>\n",
       "      <td>-0.001660</td>\n",
       "      <td>0.000872</td>\n",
       "      <td>9</td>\n",
       "      <td>75</td>\n",
       "      <td>7748.0</td>\n",
       "      <td>0</td>\n",
       "      <td>NP</td>\n",
       "    </tr>\n",
       "    <tr>\n",
       "      <th>7749</th>\n",
       "      <td>14.0</td>\n",
       "      <td>25.0</td>\n",
       "      <td>19.0</td>\n",
       "      <td>16.0</td>\n",
       "      <td>2.0</td>\n",
       "      <td>17.0</td>\n",
       "      <td>-0.001636</td>\n",
       "      <td>0.000995</td>\n",
       "      <td>9</td>\n",
       "      <td>75</td>\n",
       "      <td>7749.0</td>\n",
       "      <td>0</td>\n",
       "      <td>NP</td>\n",
       "    </tr>\n",
       "    <tr>\n",
       "      <th>7750</th>\n",
       "      <td>9.0</td>\n",
       "      <td>49.0</td>\n",
       "      <td>31.0</td>\n",
       "      <td>48.0</td>\n",
       "      <td>19.0</td>\n",
       "      <td>38.0</td>\n",
       "      <td>-0.001709</td>\n",
       "      <td>0.000897</td>\n",
       "      <td>9</td>\n",
       "      <td>75</td>\n",
       "      <td>7750.0</td>\n",
       "      <td>0</td>\n",
       "      <td>NP</td>\n",
       "    </tr>\n",
       "  </tbody>\n",
       "</table>\n",
       "<p>7751 rows × 13 columns</p>\n",
       "</div>"
      ],
      "text/plain": [
       "        F0    F1    F2    F3    F4    F5      mean       std  resistance  \\\n",
       "0     23.0  22.0   3.0   8.0   5.0  36.0 -0.017773  0.001225           9   \n",
       "1     17.0  30.0   6.0  44.0  45.0  46.0 -0.017859  0.001229           9   \n",
       "2      5.0  39.0   6.0  16.0  10.0  47.0 -0.018005  0.001308           9   \n",
       "3     22.0  46.0  34.0  44.0  11.0  42.0 -0.017969  0.001209           9   \n",
       "4      2.0   3.0  33.0  42.0  44.0   5.0 -0.017993  0.001059           9   \n",
       "...    ...   ...   ...   ...   ...   ...       ...       ...         ...   \n",
       "7746  25.0  35.0  12.0  39.0  48.0  23.0 -0.001782  0.000870           9   \n",
       "7747  41.0  16.0  33.0  39.0  20.0   8.0 -0.001575  0.000966           9   \n",
       "7748  31.0  40.0   6.0  34.0   1.0  32.0 -0.001660  0.000872           9   \n",
       "7749  14.0  25.0  19.0  16.0   2.0  17.0 -0.001636  0.000995           9   \n",
       "7750   9.0  49.0  31.0  48.0  19.0  38.0 -0.001709  0.000897           9   \n",
       "\n",
       "      volts    time  current label  \n",
       "0        75     0.0        0    NP  \n",
       "1        75     1.0        0    NP  \n",
       "2        75     2.0        0    NP  \n",
       "3        75     3.0        0    NP  \n",
       "4        75     4.0        0    NP  \n",
       "...     ...     ...      ...   ...  \n",
       "7746     75  7746.0        0    NP  \n",
       "7747     75  7747.0        0    NP  \n",
       "7748     75  7748.0        0    NP  \n",
       "7749     75  7749.0        0    NP  \n",
       "7750     75  7750.0        0    NP  \n",
       "\n",
       "[7751 rows x 13 columns]"
      ]
     },
     "execution_count": 9,
     "metadata": {},
     "output_type": "execute_result"
    }
   ],
   "source": [
    "transformed_dataframes = []\n",
    "\n",
    "#df = dataframes[0]\n",
    "for df in dataframes:\n",
    "    \n",
    "    num_chunks = len(df) // chunk_size\n",
    "    chunks = np.array_split(df[:num_chunks*chunk_size], num_chunks)\n",
    "\n",
    "    columns = defaultdict(list)\n",
    "\n",
    "    #chunk = chunks[0]\n",
    "    for chunk in chunks:\n",
    "\n",
    "        # start at 1 to ignore the DC component\n",
    "        chunk_fft = np.abs(fft(chunk[\"pre_rect\"].values))[1:chunk_size//2]\n",
    "        chunk_freqs = fftfreq(chunk_size, 1 / sample_rate)[1:chunk_size//2]\n",
    "        \n",
    "        # https://stackoverflow.com/a/20826735\n",
    "        # TODO: maybe do peak extraction on FFT instead of just indices of max vals\n",
    "        # Extract indices of frequencies with greatest amplitude\n",
    "        num_largest = 6\n",
    "        indices = (-chunk_fft).argpartition(num_largest, axis=None)[:num_largest]\n",
    "\n",
    "        # Sort indices based on amplitudes of corresponding frequencies\n",
    "        indices = sorted(indices, key=lambda x: chunk_fft[x], reverse=True)\n",
    "        \n",
    "        # Get the frequencies\n",
    "        peak_freqs = chunk_freqs[indices]\n",
    "        \n",
    "        #print(peak_freqs)\n",
    "        #plt.plot(chunk_freqs, chunk_fft, '.-')\n",
    "        #plt.grid()\n",
    "        #for i in indices:\n",
    "        #    plt.axvline(chunk_freqs[i])\n",
    "\n",
    "        labels, label_counts = np.unique(chunk[\"labels\"], return_counts=True)\n",
    "        label = labels[np.argmax(label_counts)]\n",
    "\n",
    "        for i in range(num_largest):\n",
    "            columns[f\"F{i}\"].append(peak_freqs[i])\n",
    "        columns[\"mean\"].append(np.mean(chunk[\"pre_rect\"]))\n",
    "        columns[\"std\"].append(np.std(chunk[\"pre_rect\"]))\n",
    "        columns[\"resistance\"].append(chunk[\"resistance\"].values[0])\n",
    "        columns[\"volts\"].append(chunk[\"voltage\"].values[0])\n",
    "        columns[\"time\"].append(chunk[\"time\"].values[0])\n",
    "        columns[\"current\"].append(0 if chunk[\"current\"].values[0] == \"AC\" else 1)\n",
    "        columns[\"label\"].append(label)\n",
    "        \n",
    "    df_out = pd.DataFrame(columns)\n",
    "\n",
    "    transformed_dataframes.append(df_out)\n",
    "df_out"
   ]
  },
  {
   "cell_type": "code",
   "execution_count": 10,
   "id": "59b4644e-91be-4604-ae49-01e02fd33151",
   "metadata": {},
   "outputs": [],
   "source": [
    "from sklearn.model_selection import train_test_split, cross_val_score\n",
    "from sklearn.ensemble import RandomForestClassifier"
   ]
  },
  {
   "cell_type": "code",
   "execution_count": 11,
   "id": "591e1b6c-f4c9-4495-b446-a6cb59ba7fec",
   "metadata": {},
   "outputs": [],
   "source": [
    "test_data = transformed_dataframes[:12]\n",
    "train_data = transformed_dataframes[12:]\n",
    "test = pd.concat(test_data)\n",
    "train = pd.concat(train_data)\n",
    "\n",
    "X_test = test.drop([\"label\"], axis=1)\n",
    "Y_test = test[\"label\"]\n",
    "X_train = train.drop([\"label\"], axis=1)\n",
    "Y_train = train[\"label\"]\n",
    "\n",
    "#X_train, X_test, Y_train, Y_test = train_test_split(X, Y, test_size=0.5, random_state=190)\n",
    "model = RandomForestClassifier(n_estimators=100, random_state=42, class_weight=\"balanced\")\n",
    "model.fit(X_train, Y_train)\n",
    "predicted = model.score(X_test, Y_test)\n",
    "#scores"
   ]
  },
  {
   "cell_type": "code",
   "execution_count": 12,
   "id": "4d63ba51",
   "metadata": {},
   "outputs": [],
   "source": [
    "from sklearn.metrics import f1_score, precision_score, recall_score"
   ]
  },
  {
   "cell_type": "code",
   "execution_count": 16,
   "id": "77101c56",
   "metadata": {},
   "outputs": [
    {
     "data": {
      "text/plain": [
       "0.39612553320357907"
      ]
     },
     "execution_count": 16,
     "metadata": {},
     "output_type": "execute_result"
    }
   ],
   "source": [
    "f1_score(Y_test, model.predict(X_test), average='macro')"
   ]
  },
  {
   "cell_type": "code",
   "execution_count": 17,
   "id": "3257b008",
   "metadata": {},
   "outputs": [
    {
     "name": "stderr",
     "output_type": "stream",
     "text": [
      "C:\\Users\\zbtra\\AppData\\Local\\Packages\\PythonSoftwareFoundation.Python.3.12_qbz5n2kfra8p0\\LocalCache\\local-packages\\Python312\\site-packages\\sklearn\\metrics\\_classification.py:1531: UndefinedMetricWarning: Precision is ill-defined and being set to 0.0 in labels with no predicted samples. Use `zero_division` parameter to control this behavior.\n",
      "  _warn_prf(average, modifier, f\"{metric.capitalize()} is\", len(result))\n"
     ]
    },
    {
     "data": {
      "text/plain": [
       "0.5105517860037356"
      ]
     },
     "execution_count": 17,
     "metadata": {},
     "output_type": "execute_result"
    }
   ],
   "source": [
    "precision_score(Y_test, model.predict(X_test), average = 'macro')"
   ]
  },
  {
   "cell_type": "code",
   "execution_count": 18,
   "id": "2a27a1cc",
   "metadata": {},
   "outputs": [
    {
     "data": {
      "text/plain": [
       "0.3917208353897944"
      ]
     },
     "execution_count": 18,
     "metadata": {},
     "output_type": "execute_result"
    }
   ],
   "source": [
    "recall_score(Y_test, model.predict(X_test), average = 'macro')"
   ]
  },
  {
   "cell_type": "code",
   "execution_count": 28,
   "id": "3957d6fb-7751-47f6-ae9e-d911878f9e39",
   "metadata": {},
   "outputs": [
    {
     "data": {
      "text/plain": [
       "0.8493436754176611"
      ]
     },
     "execution_count": 28,
     "metadata": {},
     "output_type": "execute_result"
    }
   ],
   "source": [
    "#scores.mean(), scores.std()\n",
    "predicted"
   ]
  },
  {
   "cell_type": "code",
   "execution_count": 29,
   "id": "1dae9510-b00d-4a4b-a920-ae437cf1e7aa",
   "metadata": {},
   "outputs": [
    {
     "data": {
      "text/plain": [
       "Text(0.5, 1.0, 'Random Forest Classifier Confusion Matrix')"
      ]
     },
     "execution_count": 29,
     "metadata": {},
     "output_type": "execute_result"
    },
    {
     "data": {
      "image/png": "[encoded data removed]",
      "text/plain": [
       "<Figure size 640x480 with 2 Axes>"
      ]
     },
     "metadata": {},
     "output_type": "display_data"
    }
   ],
   "source": [
    "from sklearn.metrics import ConfusionMatrixDisplay\n",
    "ConfusionMatrixDisplay.from_estimator(model, X_test, Y_test)\n",
    "plt.title(\"Random Forest Classifier Confusion Matrix\")"
   ]
  },
  {
   "cell_type": "code",
   "execution_count": 36,
   "id": "d2e126c8",
   "metadata": {},
   "outputs": [
    {
     "data": {
      "text/plain": [
       "0.3813240956247031"
      ]
     },
     "execution_count": 36,
     "metadata": {},
     "output_type": "execute_result"
    }
   ],
   "source": [
    "from sklearn.metrics import f1_score\n",
    "f1_score(model.predict(X_test), Y_test, average='macro')"
   ]
  },
  {
   "cell_type": "markdown",
   "id": "8f1554c8",
   "metadata": {},
   "source": [
    "Make a nice plot so we can see how the classifier was classifying things"
   ]
  },
  {
   "cell_type": "code",
   "execution_count": 12,
   "id": "e310ad18",
   "metadata": {
    "scrolled": true
   },
   "outputs": [
    {
     "data": {
      "text/plain": [
       "array(['NP', 'J', 'K', 'L', 'M', 'N'], dtype=object)"
      ]
     },
     "execution_count": 12,
     "metadata": {},
     "output_type": "execute_result"
    }
   ],
   "source": [
    "Y_test.unique()"
   ]
  },
  {
   "cell_type": "code",
   "execution_count": 56,
   "id": "6ca9ec84",
   "metadata": {},
   "outputs": [
    {
     "ename": "NameError",
     "evalue": "name 'test_data' is not defined",
     "output_type": "error",
     "traceback": [
      "\u001b[1;31m---------------------------------------------------------------------------\u001b[0m",
      "\u001b[1;31mNameError\u001b[0m                                 Traceback (most recent call last)",
      "Cell \u001b[1;32mIn[56], line 60\u001b[0m\n\u001b[0;32m     58\u001b[0m recording \u001b[38;5;241m=\u001b[39m i\n\u001b[0;32m     59\u001b[0m df \u001b[38;5;241m=\u001b[39m dataframes[recording]\n\u001b[1;32m---> 60\u001b[0m transformed_df \u001b[38;5;241m=\u001b[39m \u001b[43mtest_data\u001b[49m[recording]\n\u001b[0;32m     61\u001b[0m pred_labels \u001b[38;5;241m=\u001b[39m model\u001b[38;5;241m.\u001b[39mpredict(transformed_df\u001b[38;5;241m.\u001b[39mdrop([\u001b[38;5;124m\"\u001b[39m\u001b[38;5;124mlabel\u001b[39m\u001b[38;5;124m\"\u001b[39m], axis\u001b[38;5;241m=\u001b[39m\u001b[38;5;241m1\u001b[39m))\u001b[38;5;241m.\u001b[39mrepeat(sample_rate \u001b[38;5;241m*\u001b[39m chunk_seconds)\n\u001b[0;32m     62\u001b[0m probs \u001b[38;5;241m=\u001b[39m model\u001b[38;5;241m.\u001b[39mpredict_proba(transformed_df\u001b[38;5;241m.\u001b[39mdrop([\u001b[38;5;124m\"\u001b[39m\u001b[38;5;124mlabel\u001b[39m\u001b[38;5;124m\"\u001b[39m], axis\u001b[38;5;241m=\u001b[39m\u001b[38;5;241m1\u001b[39m))\u001b[38;5;241m.\u001b[39mmax(axis\u001b[38;5;241m=\u001b[39m\u001b[38;5;241m1\u001b[39m)\u001b[38;5;241m.\u001b[39mrepeat(sample_rate \u001b[38;5;241m*\u001b[39m chunk_seconds)\n",
      "\u001b[1;31mNameError\u001b[0m: name 'test_data' is not defined"
     ]
    }
   ],
   "source": [
    "label_to_color = {\n",
    "    \"NP\": \"red\",\n",
    "    \"J\": \"blue\",\n",
    "    \"K\": \"green\",\n",
    "    \"L\": \"purple\",\n",
    "    \"M\": \"pink\",\n",
    "    \"N\": \"cyan\",\n",
    "    \"Z\": \"orange\"\n",
    "}\n",
    "\n",
    "def plot_labels(time, voltage, true_labels, pred_labels, probs = None):\n",
    "    \"\"\"\n",
    "    plot_labels produced a matplotlib figure containing three subplots\n",
    "        that visualize a waveform along with the true and predicted labels\n",
    "    Input:\n",
    "        time: a series of time values\n",
    "        voltage: a time series of voltage values from the waveform\n",
    "        true_labels: a time series of the true label for each time point\n",
    "        pred_labels: a time series of the predicted labels for each time point\n",
    "    Output:\n",
    "        (fig, axs): a tuple\n",
    "    \"\"\"\n",
    "    fig, axs = plt.subplots(4 if len(probs) > 0 else 3, 1, sharex = True)\n",
    "    recording = 1\n",
    "    fill_min, fill_max = voltage.min(), voltage.max()\n",
    "    \n",
    "    # First plot will be the true labels\n",
    "    axs[0].plot(time, voltage, color = \"black\")\n",
    "    for label, color in label_to_color.items():\n",
    "        fill = axs[0].fill_between(time, fill_min, fill_max, \n",
    "                where = (true_labels == label), color=color, alpha = 0.5)\n",
    "        fill.set_label(label)\n",
    "    axs[0].legend(bbox_to_anchor=(0.5, 1), \n",
    "                  bbox_transform=fig.transFigure, loc=\"upper center\", ncol=9)\n",
    "    axs[0].set_title(\"True Labels\")\n",
    "    # Second plot will be the predicted labels\n",
    "    axs[1].plot(time, voltage, color = \"black\")\n",
    "    for label, color in label_to_color.items():\n",
    "        axs[1].fill_between(time[:len(pred_labels)], fill_min, fill_max, \n",
    "                where = (pred_labels == label), color=color, alpha = 0.5)\n",
    "    axs[1].set_title(\"Predicted Labels\")\n",
    "    # Third plot will be marked where there is a difference between the two\n",
    "    axs[2].plot(time, voltage, color = \"black\")\n",
    "    axs[2].fill_between(time[:len(pred_labels)], fill_min, fill_max, \n",
    "            where = (pred_labels != true_labels[:len(pred_labels)]), color = \"gray\", alpha = 0.5)\n",
    "    axs[2].set_title(\"Incorrect Labels\")\n",
    "    if len(probs) > 0:\n",
    "        # Fourth plot with confidences\n",
    "        axs[3].plot(time[:len(probs)], probs)\n",
    "        axs[3].set_title(\"Confidence\")\n",
    "        axs[3].set_ylim([0, 1])\n",
    "        # Axes titles and such\n",
    "    fig.supxlabel(\"Time (s)\")\n",
    "    fig.supylabel(\"Volts\")\n",
    "    fig.tight_layout()\n",
    "    \n",
    "for i in range(12):\n",
    "    recording = i\n",
    "    df = dataframes[recording]\n",
    "    transformed_df = test_data[recording]\n",
    "    pred_labels = model.predict(transformed_df.drop([\"label\"], axis=1)).repeat(sample_rate * chunk_seconds)\n",
    "    probs = model.predict_proba(transformed_df.drop([\"label\"], axis=1)).max(axis=1).repeat(sample_rate * chunk_seconds)\n",
    "    plot_labels(df[\"time\"], df[\"pre_rect\"], df[\"labels\"], pred_labels, probs)\n"
   ]
  }
 ],
 "metadata": {
  "kernelspec": {
   "display_name": "Python 3 (ipykernel)",
   "language": "python",
   "name": "python3"
  },
  "language_info": {
   "codemirror_mode": {
    "name": "ipython",
    "version": 3
   },
   "file_extension": ".py",
   "mimetype": "text/x-python",
   "name": "python",
   "nbconvert_exporter": "python",
   "pygments_lexer": "ipython3",
   "version": "3.12.7"
  }
 },
 "nbformat": 4,
 "nbformat_minor": 5
}
